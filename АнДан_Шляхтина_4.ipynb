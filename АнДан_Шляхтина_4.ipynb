{
  "nbformat": 4,
  "nbformat_minor": 0,
  "metadata": {
    "colab": {
      "provenance": []
    },
    "kernelspec": {
      "name": "ir",
      "display_name": "R"
    },
    "language_info": {
      "name": "R"
    }
  },
  "cells": [
    {
      "cell_type": "code",
      "execution_count": 1,
      "metadata": {
        "id": "5CarJYBdGEIn",
        "colab": {
          "base_uri": "https://localhost:8080/"
        },
        "outputId": "779e6b8a-05b3-47c0-e952-6668f173d773"
      },
      "outputs": [
        {
          "output_type": "stream",
          "name": "stderr",
          "text": [
            "── \u001b[1mAttaching core tidyverse packages\u001b[22m ──────────────────────── tidyverse 2.0.0 ──\n",
            "\u001b[32m✔\u001b[39m \u001b[34mdplyr    \u001b[39m 1.1.4     \u001b[32m✔\u001b[39m \u001b[34mreadr    \u001b[39m 2.1.5\n",
            "\u001b[32m✔\u001b[39m \u001b[34mforcats  \u001b[39m 1.0.0     \u001b[32m✔\u001b[39m \u001b[34mstringr  \u001b[39m 1.5.1\n",
            "\u001b[32m✔\u001b[39m \u001b[34mggplot2  \u001b[39m 3.5.1     \u001b[32m✔\u001b[39m \u001b[34mtibble   \u001b[39m 3.2.1\n",
            "\u001b[32m✔\u001b[39m \u001b[34mlubridate\u001b[39m 1.9.4     \u001b[32m✔\u001b[39m \u001b[34mtidyr    \u001b[39m 1.3.1\n",
            "\u001b[32m✔\u001b[39m \u001b[34mpurrr    \u001b[39m 1.0.4     \n",
            "── \u001b[1mConflicts\u001b[22m ────────────────────────────────────────── tidyverse_conflicts() ──\n",
            "\u001b[31m✖\u001b[39m \u001b[34mdplyr\u001b[39m::\u001b[32mfilter()\u001b[39m masks \u001b[34mstats\u001b[39m::filter()\n",
            "\u001b[31m✖\u001b[39m \u001b[34mdplyr\u001b[39m::\u001b[32mlag()\u001b[39m    masks \u001b[34mstats\u001b[39m::lag()\n",
            "\u001b[36mℹ\u001b[39m Use the conflicted package (\u001b[3m\u001b[34m<http://conflicted.r-lib.org/>\u001b[39m\u001b[23m) to force all conflicts to become errors\n"
          ]
        }
      ],
      "source": [
        "library(tidyverse)"
      ]
    },
    {
      "cell_type": "code",
      "source": [
        "library(ggplot2)"
      ],
      "metadata": {
        "id": "1COmzhnW5_BI"
      },
      "execution_count": 2,
      "outputs": []
    },
    {
      "cell_type": "code",
      "source": [
        "library(dplyr)"
      ],
      "metadata": {
        "id": "8d5uI_hQ-KDa"
      },
      "execution_count": 3,
      "outputs": []
    },
    {
      "cell_type": "code",
      "source": [
        "# Шляхтина Людмила"
      ],
      "metadata": {
        "id": "baFYyRwvFqjo"
      },
      "execution_count": null,
      "outputs": []
    },
    {
      "cell_type": "markdown",
      "source": [
        "1. Универсальные лингвические иерархии: порядок прилагательных в новогреческом языке (стандартный и кипрский диалекты)\n",
        "Данные (социолингвистическая анкета и результаты эксперимента в одном файле) взяты, с адаптацией, из исследования: Leivada, Evelina; Westergaard, Marit, 2019, Universal linguistic hierarchies are not innately wired. PeerJ, v.7.\n",
        "\n",
        "Источник данных: репозиторий TROLLing: Leivada, Evelina; Westergaard, Marit, 2019, “Replication Data for: Universal linguistic hierarchies are not innately wired”, https://doi.org/10.18710/NTLLUF, DataverseNO, V1\n",
        "\n",
        "Конструкции с двумя прилагательными\n",
        "В английском языке порядок двух прилагательных в таких фразах, как:"
      ],
      "metadata": {
        "id": "3CyoDE5lGOMx"
      }
    },
    {
      "cell_type": "markdown",
      "source": [
        "определяется семантическим классом прилагательного (например, прилагательное «цвета» ближе к существительному, чем прилагательное «размера»).\n",
        "\n",
        "Синтаксическая иерархия близости к существительному в универсальной грамматике Хомского предполагает следующий порядок, который считается врожденным и универсальным (= действительным для всех языков)."
      ],
      "metadata": {
        "id": "ez2Rh6SEGTc7"
      }
    },
    {
      "cell_type": "markdown",
      "source": [
        "Данные\n",
        "Загрузите данные из файла в переменную mono, переведя строковые данные в факторы. В переменной mono_socio сохраните данные социолингвистической анкеты. В переменной mono оставьте только данные самого эксперимента. Переименуйте заголовки в последней таблице в следующие: “ParticipantID”, “QuestionType”, “NQuestions”, “Likert”, “RT”."
      ],
      "metadata": {
        "id": "8e94SOn5Gi2r"
      }
    },
    {
      "cell_type": "code",
      "source": [
        "mono <- read.csv(\"https://raw.githubusercontent.com/olesar/2025dav4compling/refs/heads/main/data/greek-word-order-mono-acceptability-coded-rt.txt\", sep=\";\", stringsAsFactors = TRUE)\n",
        "head(mono)"
      ],
      "metadata": {
        "colab": {
          "base_uri": "https://localhost:8080/",
          "height": 286
        },
        "id": "doT1ju4yAFiJ",
        "outputId": "3cb631f6-fe78-431d-cd15-5a65d3e6c830"
      },
      "execution_count": 4,
      "outputs": [
        {
          "output_type": "display_data",
          "data": {
            "text/html": [
              "<table class=\"dataframe\">\n",
              "<caption>A data.frame: 6 × 6</caption>\n",
              "<thead>\n",
              "\t<tr><th></th><th scope=col>ParticipantID</th><th scope=col>TypeOfQuestion</th><th scope=col>TypeOfStimuli</th><th scope=col>WordOrder</th><th scope=col>ResponseAcceptabilityJudgement</th><th scope=col>RT</th></tr>\n",
              "\t<tr><th></th><th scope=col>&lt;fct&gt;</th><th scope=col>&lt;fct&gt;</th><th scope=col>&lt;fct&gt;</th><th scope=col>&lt;fct&gt;</th><th scope=col>&lt;fct&gt;</th><th scope=col>&lt;int&gt;</th></tr>\n",
              "</thead>\n",
              "<tbody>\n",
              "\t<tr><th scope=row>1</th><td>00e0b159cf5b9abcc73b92506d8b1c38</td><td>AcceptabilityJudgement</td><td>Size-Nationality</td><td>Congruent  </td><td>Correct</td><td>1591</td></tr>\n",
              "\t<tr><th scope=row>2</th><td>00e0b159cf5b9abcc73b92506d8b1c38</td><td>AcceptabilityJudgement</td><td>Size-Nationality</td><td>Incongruent</td><td>Correct</td><td>5504</td></tr>\n",
              "\t<tr><th scope=row>3</th><td>00e0b159cf5b9abcc73b92506d8b1c38</td><td>AcceptabilityJudgement</td><td>Size-Nationality</td><td>Congruent  </td><td>Correct</td><td>1333</td></tr>\n",
              "\t<tr><th scope=row>4</th><td>00e0b159cf5b9abcc73b92506d8b1c38</td><td>AcceptabilityJudgement</td><td>Size-Nationality</td><td>Incongruent</td><td>Correct</td><td>1543</td></tr>\n",
              "\t<tr><th scope=row>5</th><td>00e0b159cf5b9abcc73b92506d8b1c38</td><td>AcceptabilityJudgement</td><td>Size-Nationality</td><td>Congruent  </td><td>Correct</td><td>1815</td></tr>\n",
              "\t<tr><th scope=row>6</th><td>00e0b159cf5b9abcc73b92506d8b1c38</td><td>AcceptabilityJudgement</td><td>Size-Nationality</td><td>Incongruent</td><td>Correct</td><td>3059</td></tr>\n",
              "</tbody>\n",
              "</table>\n"
            ],
            "text/markdown": "\nA data.frame: 6 × 6\n\n| <!--/--> | ParticipantID &lt;fct&gt; | TypeOfQuestion &lt;fct&gt; | TypeOfStimuli &lt;fct&gt; | WordOrder &lt;fct&gt; | ResponseAcceptabilityJudgement &lt;fct&gt; | RT &lt;int&gt; |\n|---|---|---|---|---|---|---|\n| 1 | 00e0b159cf5b9abcc73b92506d8b1c38 | AcceptabilityJudgement | Size-Nationality | Congruent   | Correct | 1591 |\n| 2 | 00e0b159cf5b9abcc73b92506d8b1c38 | AcceptabilityJudgement | Size-Nationality | Incongruent | Correct | 5504 |\n| 3 | 00e0b159cf5b9abcc73b92506d8b1c38 | AcceptabilityJudgement | Size-Nationality | Congruent   | Correct | 1333 |\n| 4 | 00e0b159cf5b9abcc73b92506d8b1c38 | AcceptabilityJudgement | Size-Nationality | Incongruent | Correct | 1543 |\n| 5 | 00e0b159cf5b9abcc73b92506d8b1c38 | AcceptabilityJudgement | Size-Nationality | Congruent   | Correct | 1815 |\n| 6 | 00e0b159cf5b9abcc73b92506d8b1c38 | AcceptabilityJudgement | Size-Nationality | Incongruent | Correct | 3059 |\n\n",
            "text/latex": "A data.frame: 6 × 6\n\\begin{tabular}{r|llllll}\n  & ParticipantID & TypeOfQuestion & TypeOfStimuli & WordOrder & ResponseAcceptabilityJudgement & RT\\\\\n  & <fct> & <fct> & <fct> & <fct> & <fct> & <int>\\\\\n\\hline\n\t1 & 00e0b159cf5b9abcc73b92506d8b1c38 & AcceptabilityJudgement & Size-Nationality & Congruent   & Correct & 1591\\\\\n\t2 & 00e0b159cf5b9abcc73b92506d8b1c38 & AcceptabilityJudgement & Size-Nationality & Incongruent & Correct & 5504\\\\\n\t3 & 00e0b159cf5b9abcc73b92506d8b1c38 & AcceptabilityJudgement & Size-Nationality & Congruent   & Correct & 1333\\\\\n\t4 & 00e0b159cf5b9abcc73b92506d8b1c38 & AcceptabilityJudgement & Size-Nationality & Incongruent & Correct & 1543\\\\\n\t5 & 00e0b159cf5b9abcc73b92506d8b1c38 & AcceptabilityJudgement & Size-Nationality & Congruent   & Correct & 1815\\\\\n\t6 & 00e0b159cf5b9abcc73b92506d8b1c38 & AcceptabilityJudgement & Size-Nationality & Incongruent & Correct & 3059\\\\\n\\end{tabular}\n",
            "text/plain": [
              "  ParticipantID                    TypeOfQuestion         TypeOfStimuli   \n",
              "1 00e0b159cf5b9abcc73b92506d8b1c38 AcceptabilityJudgement Size-Nationality\n",
              "2 00e0b159cf5b9abcc73b92506d8b1c38 AcceptabilityJudgement Size-Nationality\n",
              "3 00e0b159cf5b9abcc73b92506d8b1c38 AcceptabilityJudgement Size-Nationality\n",
              "4 00e0b159cf5b9abcc73b92506d8b1c38 AcceptabilityJudgement Size-Nationality\n",
              "5 00e0b159cf5b9abcc73b92506d8b1c38 AcceptabilityJudgement Size-Nationality\n",
              "6 00e0b159cf5b9abcc73b92506d8b1c38 AcceptabilityJudgement Size-Nationality\n",
              "  WordOrder   ResponseAcceptabilityJudgement RT  \n",
              "1 Congruent   Correct                        1591\n",
              "2 Incongruent Correct                        5504\n",
              "3 Congruent   Correct                        1333\n",
              "4 Incongruent Correct                        1543\n",
              "5 Congruent   Correct                        1815\n",
              "6 Incongruent Correct                        3059"
            ]
          },
          "metadata": {}
        }
      ]
    },
    {
      "cell_type": "code",
      "source": [
        "mono_socio <- read.csv(\"https://raw.githubusercontent.com/olesar/2025dav4compling/refs/heads/main/data/greek-word-order-mono_socio.txt\", sep = \";\", header = TRUE)\n",
        "head(mono_socio)"
      ],
      "metadata": {
        "colab": {
          "base_uri": "https://localhost:8080/",
          "height": 286
        },
        "id": "HiaA36LjIHL1",
        "outputId": "c9e3d056-eea1-43d0-8658-479d2fe3a706"
      },
      "execution_count": 6,
      "outputs": [
        {
          "output_type": "display_data",
          "data": {
            "text/html": [
              "<table class=\"dataframe\">\n",
              "<caption>A data.frame: 6 × 4</caption>\n",
              "<thead>\n",
              "\t<tr><th></th><th scope=col>ParticipantID</th><th scope=col>TypeOfQuestion</th><th scope=col>QuestionCategory</th><th scope=col>Responce</th></tr>\n",
              "\t<tr><th></th><th scope=col>&lt;chr&gt;</th><th scope=col>&lt;chr&gt;</th><th scope=col>&lt;chr&gt;</th><th scope=col>&lt;chr&gt;</th></tr>\n",
              "</thead>\n",
              "<tbody>\n",
              "\t<tr><th scope=row>1</th><td>2bc93481d25426f259a0f1a3d5d3e824</td><td>Form</td><td>age       </td><td>58              </td></tr>\n",
              "\t<tr><th scope=row>2</th><td>2bc93481d25426f259a0f1a3d5d3e824</td><td>Form</td><td>country1  </td><td>Nicosia         </td></tr>\n",
              "\t<tr><th scope=row>3</th><td>2bc93481d25426f259a0f1a3d5d3e824</td><td>Form</td><td>country2  </td><td>Kaimakli,Nicosia</td></tr>\n",
              "\t<tr><th scope=row>4</th><td>2bc93481d25426f259a0f1a3d5d3e824</td><td>Form</td><td>education </td><td>College         </td></tr>\n",
              "\t<tr><th scope=row>5</th><td>2bc93481d25426f259a0f1a3d5d3e824</td><td>Form</td><td>handedness</td><td>right           </td></tr>\n",
              "\t<tr><th scope=row>6</th><td>2bc93481d25426f259a0f1a3d5d3e824</td><td>Form</td><td>sex       </td><td>female          </td></tr>\n",
              "</tbody>\n",
              "</table>\n"
            ],
            "text/markdown": "\nA data.frame: 6 × 4\n\n| <!--/--> | ParticipantID &lt;chr&gt; | TypeOfQuestion &lt;chr&gt; | QuestionCategory &lt;chr&gt; | Responce &lt;chr&gt; |\n|---|---|---|---|---|\n| 1 | 2bc93481d25426f259a0f1a3d5d3e824 | Form | age        | 58               |\n| 2 | 2bc93481d25426f259a0f1a3d5d3e824 | Form | country1   | Nicosia          |\n| 3 | 2bc93481d25426f259a0f1a3d5d3e824 | Form | country2   | Kaimakli,Nicosia |\n| 4 | 2bc93481d25426f259a0f1a3d5d3e824 | Form | education  | College          |\n| 5 | 2bc93481d25426f259a0f1a3d5d3e824 | Form | handedness | right            |\n| 6 | 2bc93481d25426f259a0f1a3d5d3e824 | Form | sex        | female           |\n\n",
            "text/latex": "A data.frame: 6 × 4\n\\begin{tabular}{r|llll}\n  & ParticipantID & TypeOfQuestion & QuestionCategory & Responce\\\\\n  & <chr> & <chr> & <chr> & <chr>\\\\\n\\hline\n\t1 & 2bc93481d25426f259a0f1a3d5d3e824 & Form & age        & 58              \\\\\n\t2 & 2bc93481d25426f259a0f1a3d5d3e824 & Form & country1   & Nicosia         \\\\\n\t3 & 2bc93481d25426f259a0f1a3d5d3e824 & Form & country2   & Kaimakli,Nicosia\\\\\n\t4 & 2bc93481d25426f259a0f1a3d5d3e824 & Form & education  & College         \\\\\n\t5 & 2bc93481d25426f259a0f1a3d5d3e824 & Form & handedness & right           \\\\\n\t6 & 2bc93481d25426f259a0f1a3d5d3e824 & Form & sex        & female          \\\\\n\\end{tabular}\n",
            "text/plain": [
              "  ParticipantID                    TypeOfQuestion QuestionCategory\n",
              "1 2bc93481d25426f259a0f1a3d5d3e824 Form           age             \n",
              "2 2bc93481d25426f259a0f1a3d5d3e824 Form           country1        \n",
              "3 2bc93481d25426f259a0f1a3d5d3e824 Form           country2        \n",
              "4 2bc93481d25426f259a0f1a3d5d3e824 Form           education       \n",
              "5 2bc93481d25426f259a0f1a3d5d3e824 Form           handedness      \n",
              "6 2bc93481d25426f259a0f1a3d5d3e824 Form           sex             \n",
              "  Responce        \n",
              "1 58              \n",
              "2 Nicosia         \n",
              "3 Kaimakli,Nicosia\n",
              "4 College         \n",
              "5 right           \n",
              "6 female          "
            ]
          },
          "metadata": {}
        }
      ]
    },
    {
      "cell_type": "markdown",
      "source": [
        "Описание данных\n",
        "1.1\n",
        "Взглянем на данные mono_socio, чтобы ответить на следующие вопросы о социолингвистических характеристиках испытуемых:\n",
        "\n",
        "Сколько участников указано в датафрейме?\n",
        "\n",
        "Сколько из них женщин и мужчин?\n",
        "\n",
        "Какие уровни образования указаны в датафрейме?\n",
        "\n",
        "Сколько участников каждого уровня образования?\n",
        "\n",
        "Сколько леворуких и праворуких участников?\n",
        "\n",
        "Напишите код, представляющий ответы на эти вопросы в виде одной или нескольких таблиц. Используйте функции из пакета tidyverse: filter, group_by, count and distinct. (Еще один способ - использовать pivot_wider.)"
      ],
      "metadata": {
        "id": "-hImpuA5jr3C"
      }
    },
    {
      "cell_type": "code",
      "source": [
        "mono_socio_wide <- mono_socio %>% pivot_wider(names_from = QuestionCategory, values_from = Responce)\n",
        "mono_socio_wide"
      ],
      "metadata": {
        "colab": {
          "base_uri": "https://localhost:8080/",
          "height": 1000
        },
        "id": "HbWJu5hucWoE",
        "outputId": "40c04a2e-1d24-492b-903d-dbb95d2270f7"
      },
      "execution_count": 7,
      "outputs": [
        {
          "output_type": "display_data",
          "data": {
            "text/html": [
              "<table class=\"dataframe\">\n",
              "<caption>A tibble: 30 × 8</caption>\n",
              "<thead>\n",
              "\t<tr><th scope=col>ParticipantID</th><th scope=col>TypeOfQuestion</th><th scope=col>age</th><th scope=col>country1</th><th scope=col>country2</th><th scope=col>education</th><th scope=col>handedness</th><th scope=col>sex</th></tr>\n",
              "\t<tr><th scope=col>&lt;chr&gt;</th><th scope=col>&lt;chr&gt;</th><th scope=col>&lt;chr&gt;</th><th scope=col>&lt;chr&gt;</th><th scope=col>&lt;chr&gt;</th><th scope=col>&lt;chr&gt;</th><th scope=col>&lt;chr&gt;</th><th scope=col>&lt;chr&gt;</th></tr>\n",
              "</thead>\n",
              "<tbody>\n",
              "\t<tr><td>2bc93481d25426f259a0f1a3d5d3e824</td><td>Form</td><td>58</td><td>Nicosia         </td><td>Kaimakli,Nicosia  </td><td>College         </td><td>right</td><td>female</td></tr>\n",
              "\t<tr><td>4b4c9debd4aedeb1fd3dfc9f1cab3b0b</td><td>Form</td><td>24</td><td>Nicosia         </td><td>Nicosia           </td><td>UniversityDegree</td><td>right</td><td>male  </td></tr>\n",
              "\t<tr><td>5cfee92572d81db494f8036861d00c3d</td><td>Form</td><td>33</td><td>Nicosia         </td><td>Nicosia           </td><td>Postgraduate    </td><td>right</td><td>female</td></tr>\n",
              "\t<tr><td>6a0bfef2c1607be61fa9879d30514cb2</td><td>Form</td><td>36</td><td>Paphos          </td><td>Nicosia           </td><td>Postgraduate    </td><td>right</td><td>male  </td></tr>\n",
              "\t<tr><td>9c334b8c45452362a37cb790b05cff6d</td><td>Form</td><td>23</td><td>Limassol        </td><td>Limassol          </td><td>Postgraduate    </td><td>right</td><td>female</td></tr>\n",
              "\t<tr><td>9eed449d848443290afdb9aca7ac7b21</td><td>Form</td><td>27</td><td>Limassol,Cyprus </td><td>Limassol          </td><td>UniversityDegree</td><td>right</td><td>female</td></tr>\n",
              "\t<tr><td>21dd0d72f74143f083e08841080c40c9</td><td>Form</td><td>46</td><td>Nicosia         </td><td>Moscow            </td><td>Postgraduate    </td><td>right</td><td>male  </td></tr>\n",
              "\t<tr><td>25c1b946d47b93d059a2232013c51780</td><td>Form</td><td>34</td><td>Limassol        </td><td>Limassol          </td><td>UniversityDegree</td><td>right</td><td>male  </td></tr>\n",
              "\t<tr><td>79b886b6ef0a5213abc3cc5905b8b237</td><td>Form</td><td>32</td><td>Nicosia         </td><td>Nicosia           </td><td>Postgraduate    </td><td>right</td><td>female</td></tr>\n",
              "\t<tr><td>85b0e3c5d7dcaf0e1faa81dfe283b826</td><td>Form</td><td>24</td><td>Nicosia         </td><td>Nicosia           </td><td>UniversityDegree</td><td>right</td><td>male  </td></tr>\n",
              "\t<tr><td>0118ad6bcd31f187154c2ed1344cd57b</td><td>Form</td><td>28</td><td>Larnaca         </td><td>Paphos            </td><td>Postgraduate    </td><td>right</td><td>male  </td></tr>\n",
              "\t<tr><td>492e07754c9ad10c86222a33da47dc8b</td><td>Form</td><td>28</td><td>Cyprus          </td><td>Cyprus            </td><td>UniversityDegree</td><td>right</td><td>female</td></tr>\n",
              "\t<tr><td>607ba9a52e718bc60069c8fee9335b1f</td><td>Form</td><td>31</td><td>1986            </td><td>Paphos,Cyprus     </td><td>UniversityDegree</td><td>right</td><td>male  </td></tr>\n",
              "\t<tr><td>853a6abae4c2f81889073dbf90c5c57b</td><td>Form</td><td>19</td><td>Nicosia         </td><td>Nicosia           </td><td>UniversityDegree</td><td>right</td><td>female</td></tr>\n",
              "\t<tr><td>944d59c9102fd8ce1d8172f9f4f784c1</td><td>Form</td><td>21</td><td>Limassol,Cyprus </td><td>Limassol,Cyprus   </td><td>College         </td><td>right</td><td>female</td></tr>\n",
              "\t<tr><td>09251c0cb8fa8808513ba5beb497f569</td><td>Form</td><td>20</td><td>Nicosia         </td><td>Nicosia           </td><td>UniversityDegree</td><td>right</td><td>female</td></tr>\n",
              "\t<tr><td>9542bc1c6a746283f1f7d9b1ee824a76</td><td>Form</td><td>29</td><td>Limassol        </td><td>Limassol          </td><td>Postgraduate    </td><td>right</td><td>female</td></tr>\n",
              "\t<tr><td>10641e1b505dda0cb82be1a8e1637c37</td><td>Form</td><td>29</td><td>Nicosia,Cyprus  </td><td>Nicosia,Cyprus    </td><td>Postgraduate    </td><td>right</td><td>female</td></tr>\n",
              "\t<tr><td>324340a79c0baf5a321d1933c517fdae</td><td>Form</td><td>55</td><td>Famagusta,Cyprus</td><td>Sotira,Cyprus     </td><td>College         </td><td>right</td><td>female</td></tr>\n",
              "\t<tr><td>80163577409836e099ebe789576d7a32</td><td>Form</td><td>29</td><td>Limassol        </td><td>Italia            </td><td>UniversityDegree</td><td>right</td><td>female</td></tr>\n",
              "\t<tr><td>a0872883e3c3635e9b535cd0173851f2</td><td>Form</td><td>67</td><td>Lapethos,Cyprus </td><td>Greece            </td><td>UniversityDegree</td><td>right</td><td>male  </td></tr>\n",
              "\t<tr><td>ac3d495977ee5b80cc3c0b49ea7db79a</td><td>Form</td><td>26</td><td>Nicosia         </td><td>Florence          </td><td>PhDongoing      </td><td>right</td><td>male  </td></tr>\n",
              "\t<tr><td>ad58d2a1137448df8a86f151736ff336</td><td>Form</td><td>40</td><td>Nicosia         </td><td>Nicosia           </td><td>UniversityDegree</td><td>right</td><td>female</td></tr>\n",
              "\t<tr><td>b948590b02bd69d4a3fc9629b1f6062a</td><td>Form</td><td>33</td><td>Limassol        </td><td>Limassol          </td><td>Postgraduate    </td><td>right</td><td>female</td></tr>\n",
              "\t<tr><td>e7fd8db672dc8cef14d83739e2af6ea6</td><td>Form</td><td>28</td><td>Nicosia         </td><td>Nicosia           </td><td>Postgraduate    </td><td>right</td><td>female</td></tr>\n",
              "\t<tr><td>ec041d028e48446856761f8d472c56e2</td><td>Form</td><td>35</td><td>Nicosia         </td><td>Nicosia           </td><td>Postgraduate    </td><td>right</td><td>male  </td></tr>\n",
              "\t<tr><td>ed33e57d048d12d246298f2e0e4192d6</td><td>Form</td><td>26</td><td>Nicosia         </td><td>Nicosia           </td><td>Postgraduate    </td><td>left </td><td>female</td></tr>\n",
              "\t<tr><td>f5a9e1dafe1ce0ed8cfa4f2d1af80049</td><td>Form</td><td>30</td><td>Nicosia         </td><td>Nicosia           </td><td>Postgraduate    </td><td>left </td><td>male  </td></tr>\n",
              "\t<tr><td>f08c7d3d0b0177bc1d6858ebd43a6fba</td><td>Form</td><td>20</td><td>Larnaca,Cyprus  </td><td>Heidelberg,Germany</td><td>UniversityDegree</td><td>right</td><td>female</td></tr>\n",
              "\t<tr><td>f59baae2e06fd5964a604c13b3cf48dd</td><td>Form</td><td>29</td><td>Nicosia         </td><td>Nicosia           </td><td>Postgraduate    </td><td>right</td><td>female</td></tr>\n",
              "</tbody>\n",
              "</table>\n"
            ],
            "text/markdown": "\nA tibble: 30 × 8\n\n| ParticipantID &lt;chr&gt; | TypeOfQuestion &lt;chr&gt; | age &lt;chr&gt; | country1 &lt;chr&gt; | country2 &lt;chr&gt; | education &lt;chr&gt; | handedness &lt;chr&gt; | sex &lt;chr&gt; |\n|---|---|---|---|---|---|---|---|\n| 2bc93481d25426f259a0f1a3d5d3e824 | Form | 58 | Nicosia          | Kaimakli,Nicosia   | College          | right | female |\n| 4b4c9debd4aedeb1fd3dfc9f1cab3b0b | Form | 24 | Nicosia          | Nicosia            | UniversityDegree | right | male   |\n| 5cfee92572d81db494f8036861d00c3d | Form | 33 | Nicosia          | Nicosia            | Postgraduate     | right | female |\n| 6a0bfef2c1607be61fa9879d30514cb2 | Form | 36 | Paphos           | Nicosia            | Postgraduate     | right | male   |\n| 9c334b8c45452362a37cb790b05cff6d | Form | 23 | Limassol         | Limassol           | Postgraduate     | right | female |\n| 9eed449d848443290afdb9aca7ac7b21 | Form | 27 | Limassol,Cyprus  | Limassol           | UniversityDegree | right | female |\n| 21dd0d72f74143f083e08841080c40c9 | Form | 46 | Nicosia          | Moscow             | Postgraduate     | right | male   |\n| 25c1b946d47b93d059a2232013c51780 | Form | 34 | Limassol         | Limassol           | UniversityDegree | right | male   |\n| 79b886b6ef0a5213abc3cc5905b8b237 | Form | 32 | Nicosia          | Nicosia            | Postgraduate     | right | female |\n| 85b0e3c5d7dcaf0e1faa81dfe283b826 | Form | 24 | Nicosia          | Nicosia            | UniversityDegree | right | male   |\n| 0118ad6bcd31f187154c2ed1344cd57b | Form | 28 | Larnaca          | Paphos             | Postgraduate     | right | male   |\n| 492e07754c9ad10c86222a33da47dc8b | Form | 28 | Cyprus           | Cyprus             | UniversityDegree | right | female |\n| 607ba9a52e718bc60069c8fee9335b1f | Form | 31 | 1986             | Paphos,Cyprus      | UniversityDegree | right | male   |\n| 853a6abae4c2f81889073dbf90c5c57b | Form | 19 | Nicosia          | Nicosia            | UniversityDegree | right | female |\n| 944d59c9102fd8ce1d8172f9f4f784c1 | Form | 21 | Limassol,Cyprus  | Limassol,Cyprus    | College          | right | female |\n| 09251c0cb8fa8808513ba5beb497f569 | Form | 20 | Nicosia          | Nicosia            | UniversityDegree | right | female |\n| 9542bc1c6a746283f1f7d9b1ee824a76 | Form | 29 | Limassol         | Limassol           | Postgraduate     | right | female |\n| 10641e1b505dda0cb82be1a8e1637c37 | Form | 29 | Nicosia,Cyprus   | Nicosia,Cyprus     | Postgraduate     | right | female |\n| 324340a79c0baf5a321d1933c517fdae | Form | 55 | Famagusta,Cyprus | Sotira,Cyprus      | College          | right | female |\n| 80163577409836e099ebe789576d7a32 | Form | 29 | Limassol         | Italia             | UniversityDegree | right | female |\n| a0872883e3c3635e9b535cd0173851f2 | Form | 67 | Lapethos,Cyprus  | Greece             | UniversityDegree | right | male   |\n| ac3d495977ee5b80cc3c0b49ea7db79a | Form | 26 | Nicosia          | Florence           | PhDongoing       | right | male   |\n| ad58d2a1137448df8a86f151736ff336 | Form | 40 | Nicosia          | Nicosia            | UniversityDegree | right | female |\n| b948590b02bd69d4a3fc9629b1f6062a | Form | 33 | Limassol         | Limassol           | Postgraduate     | right | female |\n| e7fd8db672dc8cef14d83739e2af6ea6 | Form | 28 | Nicosia          | Nicosia            | Postgraduate     | right | female |\n| ec041d028e48446856761f8d472c56e2 | Form | 35 | Nicosia          | Nicosia            | Postgraduate     | right | male   |\n| ed33e57d048d12d246298f2e0e4192d6 | Form | 26 | Nicosia          | Nicosia            | Postgraduate     | left  | female |\n| f5a9e1dafe1ce0ed8cfa4f2d1af80049 | Form | 30 | Nicosia          | Nicosia            | Postgraduate     | left  | male   |\n| f08c7d3d0b0177bc1d6858ebd43a6fba | Form | 20 | Larnaca,Cyprus   | Heidelberg,Germany | UniversityDegree | right | female |\n| f59baae2e06fd5964a604c13b3cf48dd | Form | 29 | Nicosia          | Nicosia            | Postgraduate     | right | female |\n\n",
            "text/latex": "A tibble: 30 × 8\n\\begin{tabular}{llllllll}\n ParticipantID & TypeOfQuestion & age & country1 & country2 & education & handedness & sex\\\\\n <chr> & <chr> & <chr> & <chr> & <chr> & <chr> & <chr> & <chr>\\\\\n\\hline\n\t 2bc93481d25426f259a0f1a3d5d3e824 & Form & 58 & Nicosia          & Kaimakli,Nicosia   & College          & right & female\\\\\n\t 4b4c9debd4aedeb1fd3dfc9f1cab3b0b & Form & 24 & Nicosia          & Nicosia            & UniversityDegree & right & male  \\\\\n\t 5cfee92572d81db494f8036861d00c3d & Form & 33 & Nicosia          & Nicosia            & Postgraduate     & right & female\\\\\n\t 6a0bfef2c1607be61fa9879d30514cb2 & Form & 36 & Paphos           & Nicosia            & Postgraduate     & right & male  \\\\\n\t 9c334b8c45452362a37cb790b05cff6d & Form & 23 & Limassol         & Limassol           & Postgraduate     & right & female\\\\\n\t 9eed449d848443290afdb9aca7ac7b21 & Form & 27 & Limassol,Cyprus  & Limassol           & UniversityDegree & right & female\\\\\n\t 21dd0d72f74143f083e08841080c40c9 & Form & 46 & Nicosia          & Moscow             & Postgraduate     & right & male  \\\\\n\t 25c1b946d47b93d059a2232013c51780 & Form & 34 & Limassol         & Limassol           & UniversityDegree & right & male  \\\\\n\t 79b886b6ef0a5213abc3cc5905b8b237 & Form & 32 & Nicosia          & Nicosia            & Postgraduate     & right & female\\\\\n\t 85b0e3c5d7dcaf0e1faa81dfe283b826 & Form & 24 & Nicosia          & Nicosia            & UniversityDegree & right & male  \\\\\n\t 0118ad6bcd31f187154c2ed1344cd57b & Form & 28 & Larnaca          & Paphos             & Postgraduate     & right & male  \\\\\n\t 492e07754c9ad10c86222a33da47dc8b & Form & 28 & Cyprus           & Cyprus             & UniversityDegree & right & female\\\\\n\t 607ba9a52e718bc60069c8fee9335b1f & Form & 31 & 1986             & Paphos,Cyprus      & UniversityDegree & right & male  \\\\\n\t 853a6abae4c2f81889073dbf90c5c57b & Form & 19 & Nicosia          & Nicosia            & UniversityDegree & right & female\\\\\n\t 944d59c9102fd8ce1d8172f9f4f784c1 & Form & 21 & Limassol,Cyprus  & Limassol,Cyprus    & College          & right & female\\\\\n\t 09251c0cb8fa8808513ba5beb497f569 & Form & 20 & Nicosia          & Nicosia            & UniversityDegree & right & female\\\\\n\t 9542bc1c6a746283f1f7d9b1ee824a76 & Form & 29 & Limassol         & Limassol           & Postgraduate     & right & female\\\\\n\t 10641e1b505dda0cb82be1a8e1637c37 & Form & 29 & Nicosia,Cyprus   & Nicosia,Cyprus     & Postgraduate     & right & female\\\\\n\t 324340a79c0baf5a321d1933c517fdae & Form & 55 & Famagusta,Cyprus & Sotira,Cyprus      & College          & right & female\\\\\n\t 80163577409836e099ebe789576d7a32 & Form & 29 & Limassol         & Italia             & UniversityDegree & right & female\\\\\n\t a0872883e3c3635e9b535cd0173851f2 & Form & 67 & Lapethos,Cyprus  & Greece             & UniversityDegree & right & male  \\\\\n\t ac3d495977ee5b80cc3c0b49ea7db79a & Form & 26 & Nicosia          & Florence           & PhDongoing       & right & male  \\\\\n\t ad58d2a1137448df8a86f151736ff336 & Form & 40 & Nicosia          & Nicosia            & UniversityDegree & right & female\\\\\n\t b948590b02bd69d4a3fc9629b1f6062a & Form & 33 & Limassol         & Limassol           & Postgraduate     & right & female\\\\\n\t e7fd8db672dc8cef14d83739e2af6ea6 & Form & 28 & Nicosia          & Nicosia            & Postgraduate     & right & female\\\\\n\t ec041d028e48446856761f8d472c56e2 & Form & 35 & Nicosia          & Nicosia            & Postgraduate     & right & male  \\\\\n\t ed33e57d048d12d246298f2e0e4192d6 & Form & 26 & Nicosia          & Nicosia            & Postgraduate     & left  & female\\\\\n\t f5a9e1dafe1ce0ed8cfa4f2d1af80049 & Form & 30 & Nicosia          & Nicosia            & Postgraduate     & left  & male  \\\\\n\t f08c7d3d0b0177bc1d6858ebd43a6fba & Form & 20 & Larnaca,Cyprus   & Heidelberg,Germany & UniversityDegree & right & female\\\\\n\t f59baae2e06fd5964a604c13b3cf48dd & Form & 29 & Nicosia          & Nicosia            & Postgraduate     & right & female\\\\\n\\end{tabular}\n",
            "text/plain": [
              "   ParticipantID                    TypeOfQuestion age country1        \n",
              "1  2bc93481d25426f259a0f1a3d5d3e824 Form           58  Nicosia         \n",
              "2  4b4c9debd4aedeb1fd3dfc9f1cab3b0b Form           24  Nicosia         \n",
              "3  5cfee92572d81db494f8036861d00c3d Form           33  Nicosia         \n",
              "4  6a0bfef2c1607be61fa9879d30514cb2 Form           36  Paphos          \n",
              "5  9c334b8c45452362a37cb790b05cff6d Form           23  Limassol        \n",
              "6  9eed449d848443290afdb9aca7ac7b21 Form           27  Limassol,Cyprus \n",
              "7  21dd0d72f74143f083e08841080c40c9 Form           46  Nicosia         \n",
              "8  25c1b946d47b93d059a2232013c51780 Form           34  Limassol        \n",
              "9  79b886b6ef0a5213abc3cc5905b8b237 Form           32  Nicosia         \n",
              "10 85b0e3c5d7dcaf0e1faa81dfe283b826 Form           24  Nicosia         \n",
              "11 0118ad6bcd31f187154c2ed1344cd57b Form           28  Larnaca         \n",
              "12 492e07754c9ad10c86222a33da47dc8b Form           28  Cyprus          \n",
              "13 607ba9a52e718bc60069c8fee9335b1f Form           31  1986            \n",
              "14 853a6abae4c2f81889073dbf90c5c57b Form           19  Nicosia         \n",
              "15 944d59c9102fd8ce1d8172f9f4f784c1 Form           21  Limassol,Cyprus \n",
              "16 09251c0cb8fa8808513ba5beb497f569 Form           20  Nicosia         \n",
              "17 9542bc1c6a746283f1f7d9b1ee824a76 Form           29  Limassol        \n",
              "18 10641e1b505dda0cb82be1a8e1637c37 Form           29  Nicosia,Cyprus  \n",
              "19 324340a79c0baf5a321d1933c517fdae Form           55  Famagusta,Cyprus\n",
              "20 80163577409836e099ebe789576d7a32 Form           29  Limassol        \n",
              "21 a0872883e3c3635e9b535cd0173851f2 Form           67  Lapethos,Cyprus \n",
              "22 ac3d495977ee5b80cc3c0b49ea7db79a Form           26  Nicosia         \n",
              "23 ad58d2a1137448df8a86f151736ff336 Form           40  Nicosia         \n",
              "24 b948590b02bd69d4a3fc9629b1f6062a Form           33  Limassol        \n",
              "25 e7fd8db672dc8cef14d83739e2af6ea6 Form           28  Nicosia         \n",
              "26 ec041d028e48446856761f8d472c56e2 Form           35  Nicosia         \n",
              "27 ed33e57d048d12d246298f2e0e4192d6 Form           26  Nicosia         \n",
              "28 f5a9e1dafe1ce0ed8cfa4f2d1af80049 Form           30  Nicosia         \n",
              "29 f08c7d3d0b0177bc1d6858ebd43a6fba Form           20  Larnaca,Cyprus  \n",
              "30 f59baae2e06fd5964a604c13b3cf48dd Form           29  Nicosia         \n",
              "   country2           education        handedness sex   \n",
              "1  Kaimakli,Nicosia   College          right      female\n",
              "2  Nicosia            UniversityDegree right      male  \n",
              "3  Nicosia            Postgraduate     right      female\n",
              "4  Nicosia            Postgraduate     right      male  \n",
              "5  Limassol           Postgraduate     right      female\n",
              "6  Limassol           UniversityDegree right      female\n",
              "7  Moscow             Postgraduate     right      male  \n",
              "8  Limassol           UniversityDegree right      male  \n",
              "9  Nicosia            Postgraduate     right      female\n",
              "10 Nicosia            UniversityDegree right      male  \n",
              "11 Paphos             Postgraduate     right      male  \n",
              "12 Cyprus             UniversityDegree right      female\n",
              "13 Paphos,Cyprus      UniversityDegree right      male  \n",
              "14 Nicosia            UniversityDegree right      female\n",
              "15 Limassol,Cyprus    College          right      female\n",
              "16 Nicosia            UniversityDegree right      female\n",
              "17 Limassol           Postgraduate     right      female\n",
              "18 Nicosia,Cyprus     Postgraduate     right      female\n",
              "19 Sotira,Cyprus      College          right      female\n",
              "20 Italia             UniversityDegree right      female\n",
              "21 Greece             UniversityDegree right      male  \n",
              "22 Florence           PhDongoing       right      male  \n",
              "23 Nicosia            UniversityDegree right      female\n",
              "24 Limassol           Postgraduate     right      female\n",
              "25 Nicosia            Postgraduate     right      female\n",
              "26 Nicosia            Postgraduate     right      male  \n",
              "27 Nicosia            Postgraduate     left       female\n",
              "28 Nicosia            Postgraduate     left       male  \n",
              "29 Heidelberg,Germany UniversityDegree right      female\n",
              "30 Nicosia            Postgraduate     right      female"
            ]
          },
          "metadata": {}
        }
      ]
    },
    {
      "cell_type": "code",
      "source": [
        "# Количество участников\n",
        "nrow(mono_socio_wide)"
      ],
      "metadata": {
        "colab": {
          "base_uri": "https://localhost:8080/",
          "height": 34
        },
        "id": "QTRBdNmmcf4Z",
        "outputId": "13f19523-f6e6-4490-de4b-82077282ab6e"
      },
      "execution_count": 8,
      "outputs": [
        {
          "output_type": "display_data",
          "data": {
            "text/html": [
              "30"
            ],
            "text/markdown": "30",
            "text/latex": "30",
            "text/plain": [
              "[1] 30"
            ]
          },
          "metadata": {}
        }
      ]
    },
    {
      "cell_type": "code",
      "source": [
        "# Статистика по полу. Женщин 63%.\n",
        "mono_socio_wide %>% group_by(sex) %>% count()"
      ],
      "metadata": {
        "colab": {
          "base_uri": "https://localhost:8080/",
          "height": 178
        },
        "id": "k226dhQgcicj",
        "outputId": "d1b7a93d-825e-4b3f-bf27-c8a4574acc66"
      },
      "execution_count": 9,
      "outputs": [
        {
          "output_type": "display_data",
          "data": {
            "text/html": [
              "<table class=\"dataframe\">\n",
              "<caption>A grouped_df: 2 × 2</caption>\n",
              "<thead>\n",
              "\t<tr><th scope=col>sex</th><th scope=col>n</th></tr>\n",
              "\t<tr><th scope=col>&lt;chr&gt;</th><th scope=col>&lt;int&gt;</th></tr>\n",
              "</thead>\n",
              "<tbody>\n",
              "\t<tr><td>female</td><td>19</td></tr>\n",
              "\t<tr><td>male  </td><td>11</td></tr>\n",
              "</tbody>\n",
              "</table>\n"
            ],
            "text/markdown": "\nA grouped_df: 2 × 2\n\n| sex &lt;chr&gt; | n &lt;int&gt; |\n|---|---|\n| female | 19 |\n| male   | 11 |\n\n",
            "text/latex": "A grouped\\_df: 2 × 2\n\\begin{tabular}{ll}\n sex & n\\\\\n <chr> & <int>\\\\\n\\hline\n\t female & 19\\\\\n\t male   & 11\\\\\n\\end{tabular}\n",
            "text/plain": [
              "  sex    n \n",
              "1 female 19\n",
              "2 male   11"
            ]
          },
          "metadata": {}
        }
      ]
    },
    {
      "cell_type": "code",
      "source": [
        "# Какие представлены уровни образования\n",
        "mono_socio_wide %>% distinct(education)"
      ],
      "metadata": {
        "colab": {
          "base_uri": "https://localhost:8080/",
          "height": 224
        },
        "id": "pcdbnwiSc0T-",
        "outputId": "181f8ebc-72d1-4918-d815-549775e27b67"
      },
      "execution_count": 10,
      "outputs": [
        {
          "output_type": "display_data",
          "data": {
            "text/html": [
              "<table class=\"dataframe\">\n",
              "<caption>A tibble: 4 × 1</caption>\n",
              "<thead>\n",
              "\t<tr><th scope=col>education</th></tr>\n",
              "\t<tr><th scope=col>&lt;chr&gt;</th></tr>\n",
              "</thead>\n",
              "<tbody>\n",
              "\t<tr><td>College         </td></tr>\n",
              "\t<tr><td>UniversityDegree</td></tr>\n",
              "\t<tr><td>Postgraduate    </td></tr>\n",
              "\t<tr><td>PhDongoing      </td></tr>\n",
              "</tbody>\n",
              "</table>\n"
            ],
            "text/markdown": "\nA tibble: 4 × 1\n\n| education &lt;chr&gt; |\n|---|\n| College          |\n| UniversityDegree |\n| Postgraduate     |\n| PhDongoing       |\n\n",
            "text/latex": "A tibble: 4 × 1\n\\begin{tabular}{l}\n education\\\\\n <chr>\\\\\n\\hline\n\t College         \\\\\n\t UniversityDegree\\\\\n\t Postgraduate    \\\\\n\t PhDongoing      \\\\\n\\end{tabular}\n",
            "text/plain": [
              "  education       \n",
              "1 College         \n",
              "2 UniversityDegree\n",
              "3 Postgraduate    \n",
              "4 PhDongoing      "
            ]
          },
          "metadata": {}
        }
      ]
    },
    {
      "cell_type": "code",
      "source": [
        "# Статистика по уровню образования. Подавляющее большинство получило высшее образование.\n",
        "mono_socio_wide %>% group_by(education) %>% count()"
      ],
      "metadata": {
        "colab": {
          "base_uri": "https://localhost:8080/",
          "height": 224
        },
        "id": "5lhJWi5peka5",
        "outputId": "909e13a5-c486-4b65-a635-60dab30193d2"
      },
      "execution_count": 11,
      "outputs": [
        {
          "output_type": "display_data",
          "data": {
            "text/html": [
              "<table class=\"dataframe\">\n",
              "<caption>A grouped_df: 4 × 2</caption>\n",
              "<thead>\n",
              "\t<tr><th scope=col>education</th><th scope=col>n</th></tr>\n",
              "\t<tr><th scope=col>&lt;chr&gt;</th><th scope=col>&lt;int&gt;</th></tr>\n",
              "</thead>\n",
              "<tbody>\n",
              "\t<tr><td>College         </td><td> 3</td></tr>\n",
              "\t<tr><td>PhDongoing      </td><td> 1</td></tr>\n",
              "\t<tr><td>Postgraduate    </td><td>14</td></tr>\n",
              "\t<tr><td>UniversityDegree</td><td>12</td></tr>\n",
              "</tbody>\n",
              "</table>\n"
            ],
            "text/markdown": "\nA grouped_df: 4 × 2\n\n| education &lt;chr&gt; | n &lt;int&gt; |\n|---|---|\n| College          |  3 |\n| PhDongoing       |  1 |\n| Postgraduate     | 14 |\n| UniversityDegree | 12 |\n\n",
            "text/latex": "A grouped\\_df: 4 × 2\n\\begin{tabular}{ll}\n education & n\\\\\n <chr> & <int>\\\\\n\\hline\n\t College          &  3\\\\\n\t PhDongoing       &  1\\\\\n\t Postgraduate     & 14\\\\\n\t UniversityDegree & 12\\\\\n\\end{tabular}\n",
            "text/plain": [
              "  education        n \n",
              "1 College           3\n",
              "2 PhDongoing        1\n",
              "3 Postgraduate     14\n",
              "4 UniversityDegree 12"
            ]
          },
          "metadata": {}
        }
      ]
    },
    {
      "cell_type": "code",
      "source": [
        "# Доминирующая рука. Подавляющее большинство участников эксперимента - правши.\n",
        "mono_socio_wide %>% group_by(handedness) %>% count()"
      ],
      "metadata": {
        "colab": {
          "base_uri": "https://localhost:8080/",
          "height": 161
        },
        "id": "UvTT0HKTeuzE",
        "outputId": "f56a239e-5e5c-4d8c-94df-ff03f180853c"
      },
      "execution_count": 12,
      "outputs": [
        {
          "output_type": "display_data",
          "data": {
            "text/html": [
              "<table class=\"dataframe\">\n",
              "<caption>A grouped_df: 2 × 2</caption>\n",
              "<thead>\n",
              "\t<tr><th scope=col>handedness</th><th scope=col>n</th></tr>\n",
              "\t<tr><th scope=col>&lt;chr&gt;</th><th scope=col>&lt;int&gt;</th></tr>\n",
              "</thead>\n",
              "<tbody>\n",
              "\t<tr><td>left </td><td> 2</td></tr>\n",
              "\t<tr><td>right</td><td>28</td></tr>\n",
              "</tbody>\n",
              "</table>\n"
            ],
            "text/markdown": "\nA grouped_df: 2 × 2\n\n| handedness &lt;chr&gt; | n &lt;int&gt; |\n|---|---|\n| left  |  2 |\n| right | 28 |\n\n",
            "text/latex": "A grouped\\_df: 2 × 2\n\\begin{tabular}{ll}\n handedness & n\\\\\n <chr> & <int>\\\\\n\\hline\n\t left  &  2\\\\\n\t right & 28\\\\\n\\end{tabular}\n",
            "text/plain": [
              "  handedness n \n",
              "1 left        2\n",
              "2 right      28"
            ]
          },
          "metadata": {}
        }
      ]
    },
    {
      "cell_type": "markdown",
      "source": [
        "1.2\n",
        "Сравните полученную информацию с данными из таблицы 1 в статье. Можно ли сказать, что данные, которые вы загрузили по ссылке, позволяют воспроизвести результаты этого исследования?"
      ],
      "metadata": {
        "id": "lJSjs2diqHQM"
      }
    },
    {
      "cell_type": "code",
      "source": [
        "# Пол: по ссылке женщин 63%, по статье 52%.\n",
        "# Уровень образования: в статье два вида (школьное и высшее), по ссылке четыре. Если объединить PhDongoing, Postgraduate и UniversityDegree, то по статье школьное образование у 10%, по статье у 12%.\n",
        "# Доминирующая рука: в статье левшей 10%, по ссылке левшей 6%."
      ],
      "metadata": {
        "id": "ESXc1wySGdMF"
      },
      "execution_count": 13,
      "outputs": []
    },
    {
      "cell_type": "code",
      "source": [
        "# В статье участников было больше примерно в 4.5 раз, данные разнятся, но не критически. Полностью воспроизвести результаты исследования, таким образом, у нас не получится.\n",
        "# При этом данные полностью совпадают с таблицей 2 в статье."
      ],
      "metadata": {
        "id": "4tyJK9WJHb2U"
      },
      "execution_count": 14,
      "outputs": []
    },
    {
      "cell_type": "markdown",
      "source": [
        "1.3\n",
        "Постройте график плотности, который показывает распределение RT в эксперименте в целом (для всех участников и условий. Отобразите красным пунктиром линию, показывающую среднее значение RT."
      ],
      "metadata": {
        "id": "lUFfIqvYHoXC"
      }
    },
    {
      "cell_type": "code",
      "source": [
        "# Вычисляем среднее RT\n",
        "mean_rt <- mean(mono$RT)"
      ],
      "metadata": {
        "id": "nPt_3yjE6Grm"
      },
      "execution_count": 15,
      "outputs": []
    },
    {
      "cell_type": "code",
      "source": [
        "ggplot(mono, aes(x = RT)) +\n",
        "  geom_density(fill = \"blue\", alpha = 0.3) +\n",
        "  geom_vline(xintercept = mean_rt, linetype = \"dashed\", color = \"red\", linewidth = 1) +\n",
        "  labs(title = \"Распределение RT\",\n",
        "       x = \"RT\",\n",
        "       y = \"Плотность\") +\n",
        "  theme_minimal()"
      ],
      "metadata": {
        "id": "13fRBYFgIkMK",
        "outputId": "ee578d76-1f17-481e-924a-68221559de99",
        "colab": {
          "base_uri": "https://localhost:8080/",
          "height": 437
        }
      },
      "execution_count": 16,
      "outputs": [
        {
          "output_type": "display_data",
          "data": {
            "text/plain": [
              "plot without title"
            ],
            "image/png": "[encoded data removed]"
          },
          "metadata": {
            "image/png": {
              "width": 420,
              "height": 420
            }
          }
        }
      ]
    },
    {
      "cell_type": "markdown",
      "source": [
        "1.4\n",
        "Верно ли, что данные времени реакции нормально распределены? Есть ли в распределении длинные левые или правые хвосты??"
      ],
      "metadata": {
        "id": "s3bk51wE6k67"
      }
    },
    {
      "cell_type": "code",
      "source": [
        "# Распределение напоминает колокол нормального распределения, но линия RT проходит не ровно по центру, а правый хвост слишком длинный.\n",
        "# График не симметричный, так что нельзя сказать, что распределение нормальное."
      ],
      "metadata": {
        "id": "px0SpZeg_hAh"
      },
      "execution_count": 17,
      "outputs": []
    },
    {
      "cell_type": "markdown",
      "source": [
        "1.5\n",
        "Преобразуйте данные с помощью функциии логарифма (RTlog = log10(RT))."
      ],
      "metadata": {
        "id": "dhzskpQK96dP"
      }
    },
    {
      "cell_type": "code",
      "source": [
        "mono$RTlog = log10(mono$RT)"
      ],
      "metadata": {
        "id": "icG_Kqnm6n3A"
      },
      "execution_count": 18,
      "outputs": []
    },
    {
      "cell_type": "markdown",
      "source": [
        "1.6\n",
        "Создайте график, похожий на 1.3, но показывающий логарифимированные значения RT."
      ],
      "metadata": {
        "id": "ghnShrqvDnJU"
      }
    },
    {
      "cell_type": "code",
      "source": [
        "# Вычисляем среднее RT\n",
        "mean_log_rt <- mean(mono$RTlog)"
      ],
      "metadata": {
        "id": "hujW93fvDq_c"
      },
      "execution_count": 19,
      "outputs": []
    },
    {
      "cell_type": "code",
      "source": [
        "ggplot(mono, aes(x = RTlog)) +\n",
        "  geom_density(fill = \"blue\", alpha = 0.3) +\n",
        "  geom_vline(xintercept = mean_log_rt, linetype = \"dashed\", color = \"red\", linewidth = 1) +\n",
        "  labs(title = \"Распределение RTlog\",\n",
        "       x = \"RTlog\",\n",
        "       y = \"Плотность\") +\n",
        "  theme_minimal()\n",
        "# Этот график выглядит уже лучше, чем предыдущий, хотя всё равно наблюдается асимметрия и слишком длинные правые хвосты."
      ],
      "metadata": {
        "colab": {
          "base_uri": "https://localhost:8080/",
          "height": 437
        },
        "id": "k4HuH1Kq92T5",
        "outputId": "dcf08579-45f5-43d5-991b-d24e5356b1d4"
      },
      "execution_count": 20,
      "outputs": [
        {
          "output_type": "display_data",
          "data": {
            "text/plain": [
              "plot without title"
            ],
            "image/png": "[encoded data removed]"
          },
          "metadata": {
            "image/png": {
              "width": 420,
              "height": 420
            }
          }
        }
      ]
    },
    {
      "cell_type": "markdown",
      "source": [
        "1.7\n",
        "Отфильтруйте выбросы:\n",
        "* автоматические ответы, время реакции на которые меньше 600 ms (будем полагать, что кнопка была нажата слишком быстро, еще до того, как у участника было достаточно времени рассмотреть показанный ему стимул и принять решение);\n",
        "* ответы, в которых RTlog отличается от среднего значения RTlog более, чем на 3 стандартных отклонения (SD);\n",
        "* филлеры (как приемлемые, так и неприемлемые).\n",
        "Сохраните очищенные от выбросов данные в переменную mono1."
      ],
      "metadata": {
        "id": "Y49IQOt1EKLP"
      }
    },
    {
      "cell_type": "code",
      "source": [
        "# Оставляем только те ответы, где время реакции больше 600.\n",
        "mono1 <- mono %>% filter(RT >= 600)"
      ],
      "metadata": {
        "id": "aAHpubp7ESek"
      },
      "execution_count": 21,
      "outputs": []
    },
    {
      "cell_type": "code",
      "source": [
        "# Оставляем только те ответы, где RTlog отличается от среднего менее чем на 3 SD.\n",
        "mean_rtlog <- mean(mono1$RTlog)  # Считаем среднее RTlog.\n",
        "sd_rtlog <- sd(mono1$RTlog)      # Считаем стандартное отклонение RTlog.\n",
        "mono1 <- mono1 %>% filter(abs(RTlog - mean_rtlog) <= 3 * sd_rtlog)"
      ],
      "metadata": {
        "id": "ktYioTneFhsx"
      },
      "execution_count": 22,
      "outputs": []
    },
    {
      "cell_type": "code",
      "source": [
        "# Удаляем филлеры.\n",
        "mono1 <- mono1 %>%\n",
        "  filter(!TypeOfStimuli %in% c(\"FillerUnacceptable\", \"FillerAcceptable\"))\n",
        "mono1"
      ],
      "metadata": {
        "colab": {
          "base_uri": "https://localhost:8080/",
          "height": 1000
        },
        "id": "EorrULW8F3-5",
        "outputId": "d76de5e7-8238-4056-d108-0993dcff4d84"
      },
      "execution_count": 23,
      "outputs": [
        {
          "output_type": "display_data",
          "data": {
            "text/html": [
              "<table class=\"dataframe\">\n",
              "<caption>A data.frame: 2487 × 7</caption>\n",
              "<thead>\n",
              "\t<tr><th scope=col>ParticipantID</th><th scope=col>TypeOfQuestion</th><th scope=col>TypeOfStimuli</th><th scope=col>WordOrder</th><th scope=col>ResponseAcceptabilityJudgement</th><th scope=col>RT</th><th scope=col>RTlog</th></tr>\n",
              "\t<tr><th scope=col>&lt;fct&gt;</th><th scope=col>&lt;fct&gt;</th><th scope=col>&lt;fct&gt;</th><th scope=col>&lt;fct&gt;</th><th scope=col>&lt;fct&gt;</th><th scope=col>&lt;int&gt;</th><th scope=col>&lt;dbl&gt;</th></tr>\n",
              "</thead>\n",
              "<tbody>\n",
              "\t<tr><td>00e0b159cf5b9abcc73b92506d8b1c38</td><td>AcceptabilityJudgement</td><td>Size-Nationality          </td><td>Congruent  </td><td>Correct</td><td>1591</td><td>3.201670</td></tr>\n",
              "\t<tr><td>00e0b159cf5b9abcc73b92506d8b1c38</td><td>AcceptabilityJudgement</td><td>Size-Nationality          </td><td>Incongruent</td><td>Correct</td><td>5504</td><td>3.740678</td></tr>\n",
              "\t<tr><td>00e0b159cf5b9abcc73b92506d8b1c38</td><td>AcceptabilityJudgement</td><td>Size-Nationality          </td><td>Congruent  </td><td>Correct</td><td>1333</td><td>3.124830</td></tr>\n",
              "\t<tr><td>00e0b159cf5b9abcc73b92506d8b1c38</td><td>AcceptabilityJudgement</td><td>Size-Nationality          </td><td>Incongruent</td><td>Correct</td><td>1543</td><td>3.188366</td></tr>\n",
              "\t<tr><td>00e0b159cf5b9abcc73b92506d8b1c38</td><td>AcceptabilityJudgement</td><td>Size-Nationality          </td><td>Congruent  </td><td>Correct</td><td>1815</td><td>3.258877</td></tr>\n",
              "\t<tr><td>00e0b159cf5b9abcc73b92506d8b1c38</td><td>AcceptabilityJudgement</td><td>Size-Nationality          </td><td>Incongruent</td><td>Correct</td><td>3059</td><td>3.485579</td></tr>\n",
              "\t<tr><td>00e0b159cf5b9abcc73b92506d8b1c38</td><td>AcceptabilityJudgement</td><td>Shape-Color               </td><td>Congruent  </td><td>Correct</td><td>1700</td><td>3.230449</td></tr>\n",
              "\t<tr><td>00e0b159cf5b9abcc73b92506d8b1c38</td><td>AcceptabilityJudgement</td><td>Shape-Color               </td><td>Incongruent</td><td>Correct</td><td>2745</td><td>3.438542</td></tr>\n",
              "\t<tr><td>00e0b159cf5b9abcc73b92506d8b1c38</td><td>AcceptabilityJudgement</td><td>Shape-Color               </td><td>Congruent  </td><td>Correct</td><td>3237</td><td>3.510143</td></tr>\n",
              "\t<tr><td>00e0b159cf5b9abcc73b92506d8b1c38</td><td>AcceptabilityJudgement</td><td>Shape-Color               </td><td>Incongruent</td><td>Correct</td><td>2911</td><td>3.464042</td></tr>\n",
              "\t<tr><td>00e0b159cf5b9abcc73b92506d8b1c38</td><td>AcceptabilityJudgement</td><td>Shape-Color               </td><td>Congruent  </td><td>Correct</td><td>1878</td><td>3.273696</td></tr>\n",
              "\t<tr><td>00e0b159cf5b9abcc73b92506d8b1c38</td><td>AcceptabilityJudgement</td><td>Shape-Color               </td><td>Incongruent</td><td>Correct</td><td>3796</td><td>3.579326</td></tr>\n",
              "\t<tr><td>00e0b159cf5b9abcc73b92506d8b1c38</td><td>AcceptabilityJudgement</td><td>SubjectiveComment-Material</td><td>Congruent  </td><td>Wrong  </td><td>1168</td><td>3.067443</td></tr>\n",
              "\t<tr><td>00e0b159cf5b9abcc73b92506d8b1c38</td><td>AcceptabilityJudgement</td><td>SubjectiveComment-Material</td><td>Incongruent</td><td>Correct</td><td>2429</td><td>3.385428</td></tr>\n",
              "\t<tr><td>00e0b159cf5b9abcc73b92506d8b1c38</td><td>AcceptabilityJudgement</td><td>SubjectiveComment-Material</td><td>Congruent  </td><td>Correct</td><td>2189</td><td>3.340246</td></tr>\n",
              "\t<tr><td>00e0b159cf5b9abcc73b92506d8b1c38</td><td>AcceptabilityJudgement</td><td>SubjectiveComment-Material</td><td>Incongruent</td><td>Neither</td><td>3171</td><td>3.501196</td></tr>\n",
              "\t<tr><td>00e0b159cf5b9abcc73b92506d8b1c38</td><td>AcceptabilityJudgement</td><td>SubjectiveComment-Material</td><td>Congruent  </td><td>Correct</td><td>1404</td><td>3.147367</td></tr>\n",
              "\t<tr><td>00e0b159cf5b9abcc73b92506d8b1c38</td><td>AcceptabilityJudgement</td><td>SubjectiveComment-Material</td><td>Incongruent</td><td>Correct</td><td>2698</td><td>3.431042</td></tr>\n",
              "\t<tr><td>021a49cde484f8fa18439f026ec99459</td><td>AcceptabilityJudgement</td><td>Size-Nationality          </td><td>Congruent  </td><td>Correct</td><td>1578</td><td>3.198107</td></tr>\n",
              "\t<tr><td>021a49cde484f8fa18439f026ec99459</td><td>AcceptabilityJudgement</td><td>Size-Nationality          </td><td>Incongruent</td><td>Correct</td><td>1719</td><td>3.235276</td></tr>\n",
              "\t<tr><td>021a49cde484f8fa18439f026ec99459</td><td>AcceptabilityJudgement</td><td>Size-Nationality          </td><td>Congruent  </td><td>Correct</td><td>2998</td><td>3.476832</td></tr>\n",
              "\t<tr><td>021a49cde484f8fa18439f026ec99459</td><td>AcceptabilityJudgement</td><td>Size-Nationality          </td><td>Incongruent</td><td>Correct</td><td>2359</td><td>3.372728</td></tr>\n",
              "\t<tr><td>021a49cde484f8fa18439f026ec99459</td><td>AcceptabilityJudgement</td><td>Size-Nationality          </td><td>Congruent  </td><td>Correct</td><td>1206</td><td>3.081347</td></tr>\n",
              "\t<tr><td>021a49cde484f8fa18439f026ec99459</td><td>AcceptabilityJudgement</td><td>Size-Nationality          </td><td>Incongruent</td><td>Correct</td><td>1239</td><td>3.093071</td></tr>\n",
              "\t<tr><td>021a49cde484f8fa18439f026ec99459</td><td>AcceptabilityJudgement</td><td>Shape-Color               </td><td>Congruent  </td><td>Correct</td><td>1433</td><td>3.156246</td></tr>\n",
              "\t<tr><td>021a49cde484f8fa18439f026ec99459</td><td>AcceptabilityJudgement</td><td>Shape-Color               </td><td>Incongruent</td><td>Correct</td><td>1942</td><td>3.288249</td></tr>\n",
              "\t<tr><td>021a49cde484f8fa18439f026ec99459</td><td>AcceptabilityJudgement</td><td>Shape-Color               </td><td>Congruent  </td><td>Correct</td><td>1831</td><td>3.262688</td></tr>\n",
              "\t<tr><td>021a49cde484f8fa18439f026ec99459</td><td>AcceptabilityJudgement</td><td>Shape-Color               </td><td>Incongruent</td><td>Correct</td><td>1641</td><td>3.215109</td></tr>\n",
              "\t<tr><td>021a49cde484f8fa18439f026ec99459</td><td>AcceptabilityJudgement</td><td>Shape-Color               </td><td>Congruent  </td><td>Correct</td><td>1529</td><td>3.184407</td></tr>\n",
              "\t<tr><td>021a49cde484f8fa18439f026ec99459</td><td>AcceptabilityJudgement</td><td>Shape-Color               </td><td>Incongruent</td><td>Correct</td><td>1237</td><td>3.092370</td></tr>\n",
              "\t<tr><td>⋮</td><td>⋮</td><td>⋮</td><td>⋮</td><td>⋮</td><td>⋮</td><td>⋮</td></tr>\n",
              "\t<tr><td>ff9c2ed9d5c7002f4126ed7c78267912</td><td>AcceptabilityJudgement</td><td>Shape-Color               </td><td>Congruent  </td><td>Correct</td><td>1177</td><td>3.070776</td></tr>\n",
              "\t<tr><td>ff9c2ed9d5c7002f4126ed7c78267912</td><td>AcceptabilityJudgement</td><td>Shape-Color               </td><td>Incongruent</td><td>Correct</td><td>6564</td><td>3.817169</td></tr>\n",
              "\t<tr><td>ff9c2ed9d5c7002f4126ed7c78267912</td><td>AcceptabilityJudgement</td><td>Shape-Color               </td><td>Congruent  </td><td>Correct</td><td>2626</td><td>3.419295</td></tr>\n",
              "\t<tr><td>ff9c2ed9d5c7002f4126ed7c78267912</td><td>AcceptabilityJudgement</td><td>Shape-Color               </td><td>Incongruent</td><td>Correct</td><td>2904</td><td>3.462997</td></tr>\n",
              "\t<tr><td>ff9c2ed9d5c7002f4126ed7c78267912</td><td>AcceptabilityJudgement</td><td>Shape-Color               </td><td>Congruent  </td><td>Correct</td><td>2306</td><td>3.362859</td></tr>\n",
              "\t<tr><td>ff9c2ed9d5c7002f4126ed7c78267912</td><td>AcceptabilityJudgement</td><td>Shape-Color               </td><td>Incongruent</td><td>Correct</td><td>2774</td><td>3.443106</td></tr>\n",
              "\t<tr><td>ff9c2ed9d5c7002f4126ed7c78267912</td><td>AcceptabilityJudgement</td><td>SubjectiveComment-Material</td><td>Congruent  </td><td>Correct</td><td>2503</td><td>3.398461</td></tr>\n",
              "\t<tr><td>ff9c2ed9d5c7002f4126ed7c78267912</td><td>AcceptabilityJudgement</td><td>SubjectiveComment-Material</td><td>Incongruent</td><td>Correct</td><td>1030</td><td>3.012837</td></tr>\n",
              "\t<tr><td>ff9c2ed9d5c7002f4126ed7c78267912</td><td>AcceptabilityJudgement</td><td>SubjectiveComment-Material</td><td>Congruent  </td><td>Correct</td><td>1621</td><td>3.209783</td></tr>\n",
              "\t<tr><td>ff9c2ed9d5c7002f4126ed7c78267912</td><td>AcceptabilityJudgement</td><td>SubjectiveComment-Material</td><td>Incongruent</td><td>Wrong  </td><td>3063</td><td>3.486147</td></tr>\n",
              "\t<tr><td>ff9c2ed9d5c7002f4126ed7c78267912</td><td>AcceptabilityJudgement</td><td>SubjectiveComment-Material</td><td>Congruent  </td><td>Correct</td><td>1743</td><td>3.241297</td></tr>\n",
              "\t<tr><td>ff9c2ed9d5c7002f4126ed7c78267912</td><td>AcceptabilityJudgement</td><td>SubjectiveComment-Material</td><td>Incongruent</td><td>Wrong  </td><td>5132</td><td>3.710287</td></tr>\n",
              "\t<tr><td>ffb247049b32eea1ca01866adae318b6</td><td>AcceptabilityJudgement</td><td>Size-Nationality          </td><td>Congruent  </td><td>Correct</td><td>5539</td><td>3.743431</td></tr>\n",
              "\t<tr><td>ffb247049b32eea1ca01866adae318b6</td><td>AcceptabilityJudgement</td><td>Size-Nationality          </td><td>Incongruent</td><td>Correct</td><td>3142</td><td>3.497206</td></tr>\n",
              "\t<tr><td>ffb247049b32eea1ca01866adae318b6</td><td>AcceptabilityJudgement</td><td>Size-Nationality          </td><td>Congruent  </td><td>Correct</td><td>1394</td><td>3.144263</td></tr>\n",
              "\t<tr><td>ffb247049b32eea1ca01866adae318b6</td><td>AcceptabilityJudgement</td><td>Size-Nationality          </td><td>Incongruent</td><td>Correct</td><td>4951</td><td>3.694693</td></tr>\n",
              "\t<tr><td>ffb247049b32eea1ca01866adae318b6</td><td>AcceptabilityJudgement</td><td>Size-Nationality          </td><td>Congruent  </td><td>Correct</td><td>2198</td><td>3.342028</td></tr>\n",
              "\t<tr><td>ffb247049b32eea1ca01866adae318b6</td><td>AcceptabilityJudgement</td><td>Size-Nationality          </td><td>Incongruent</td><td>Correct</td><td>1808</td><td>3.257198</td></tr>\n",
              "\t<tr><td>ffb247049b32eea1ca01866adae318b6</td><td>AcceptabilityJudgement</td><td>Shape-Color               </td><td>Congruent  </td><td>Correct</td><td>2456</td><td>3.390228</td></tr>\n",
              "\t<tr><td>ffb247049b32eea1ca01866adae318b6</td><td>AcceptabilityJudgement</td><td>Shape-Color               </td><td>Incongruent</td><td>Correct</td><td>3179</td><td>3.502291</td></tr>\n",
              "\t<tr><td>ffb247049b32eea1ca01866adae318b6</td><td>AcceptabilityJudgement</td><td>Shape-Color               </td><td>Congruent  </td><td>Correct</td><td>4296</td><td>3.633064</td></tr>\n",
              "\t<tr><td>ffb247049b32eea1ca01866adae318b6</td><td>AcceptabilityJudgement</td><td>Shape-Color               </td><td>Incongruent</td><td>Correct</td><td>3302</td><td>3.518777</td></tr>\n",
              "\t<tr><td>ffb247049b32eea1ca01866adae318b6</td><td>AcceptabilityJudgement</td><td>Shape-Color               </td><td>Congruent  </td><td>Correct</td><td>2148</td><td>3.332034</td></tr>\n",
              "\t<tr><td>ffb247049b32eea1ca01866adae318b6</td><td>AcceptabilityJudgement</td><td>Shape-Color               </td><td>Incongruent</td><td>Correct</td><td>2516</td><td>3.400711</td></tr>\n",
              "\t<tr><td>ffb247049b32eea1ca01866adae318b6</td><td>AcceptabilityJudgement</td><td>SubjectiveComment-Material</td><td>Congruent  </td><td>Correct</td><td>2168</td><td>3.336059</td></tr>\n",
              "\t<tr><td>ffb247049b32eea1ca01866adae318b6</td><td>AcceptabilityJudgement</td><td>SubjectiveComment-Material</td><td>Incongruent</td><td>Correct</td><td>1635</td><td>3.213518</td></tr>\n",
              "\t<tr><td>ffb247049b32eea1ca01866adae318b6</td><td>AcceptabilityJudgement</td><td>SubjectiveComment-Material</td><td>Congruent  </td><td>Correct</td><td>2731</td><td>3.436322</td></tr>\n",
              "\t<tr><td>ffb247049b32eea1ca01866adae318b6</td><td>AcceptabilityJudgement</td><td>SubjectiveComment-Material</td><td>Incongruent</td><td>Correct</td><td>1779</td><td>3.250176</td></tr>\n",
              "\t<tr><td>ffb247049b32eea1ca01866adae318b6</td><td>AcceptabilityJudgement</td><td>SubjectiveComment-Material</td><td>Congruent  </td><td>Correct</td><td>3109</td><td>3.492621</td></tr>\n",
              "\t<tr><td>ffb247049b32eea1ca01866adae318b6</td><td>AcceptabilityJudgement</td><td>SubjectiveComment-Material</td><td>Incongruent</td><td>Correct</td><td>1332</td><td>3.124504</td></tr>\n",
              "</tbody>\n",
              "</table>\n"
            ],
            "text/markdown": "\nA data.frame: 2487 × 7\n\n| ParticipantID &lt;fct&gt; | TypeOfQuestion &lt;fct&gt; | TypeOfStimuli &lt;fct&gt; | WordOrder &lt;fct&gt; | ResponseAcceptabilityJudgement &lt;fct&gt; | RT &lt;int&gt; | RTlog &lt;dbl&gt; |\n|---|---|---|---|---|---|---|\n| 00e0b159cf5b9abcc73b92506d8b1c38 | AcceptabilityJudgement | Size-Nationality           | Congruent   | Correct | 1591 | 3.201670 |\n| 00e0b159cf5b9abcc73b92506d8b1c38 | AcceptabilityJudgement | Size-Nationality           | Incongruent | Correct | 5504 | 3.740678 |\n| 00e0b159cf5b9abcc73b92506d8b1c38 | AcceptabilityJudgement | Size-Nationality           | Congruent   | Correct | 1333 | 3.124830 |\n| 00e0b159cf5b9abcc73b92506d8b1c38 | AcceptabilityJudgement | Size-Nationality           | Incongruent | Correct | 1543 | 3.188366 |\n| 00e0b159cf5b9abcc73b92506d8b1c38 | AcceptabilityJudgement | Size-Nationality           | Congruent   | Correct | 1815 | 3.258877 |\n| 00e0b159cf5b9abcc73b92506d8b1c38 | AcceptabilityJudgement | Size-Nationality           | Incongruent | Correct | 3059 | 3.485579 |\n| 00e0b159cf5b9abcc73b92506d8b1c38 | AcceptabilityJudgement | Shape-Color                | Congruent   | Correct | 1700 | 3.230449 |\n| 00e0b159cf5b9abcc73b92506d8b1c38 | AcceptabilityJudgement | Shape-Color                | Incongruent | Correct | 2745 | 3.438542 |\n| 00e0b159cf5b9abcc73b92506d8b1c38 | AcceptabilityJudgement | Shape-Color                | Congruent   | Correct | 3237 | 3.510143 |\n| 00e0b159cf5b9abcc73b92506d8b1c38 | AcceptabilityJudgement | Shape-Color                | Incongruent | Correct | 2911 | 3.464042 |\n| 00e0b159cf5b9abcc73b92506d8b1c38 | AcceptabilityJudgement | Shape-Color                | Congruent   | Correct | 1878 | 3.273696 |\n| 00e0b159cf5b9abcc73b92506d8b1c38 | AcceptabilityJudgement | Shape-Color                | Incongruent | Correct | 3796 | 3.579326 |\n| 00e0b159cf5b9abcc73b92506d8b1c38 | AcceptabilityJudgement | SubjectiveComment-Material | Congruent   | Wrong   | 1168 | 3.067443 |\n| 00e0b159cf5b9abcc73b92506d8b1c38 | AcceptabilityJudgement | SubjectiveComment-Material | Incongruent | Correct | 2429 | 3.385428 |\n| 00e0b159cf5b9abcc73b92506d8b1c38 | AcceptabilityJudgement | SubjectiveComment-Material | Congruent   | Correct | 2189 | 3.340246 |\n| 00e0b159cf5b9abcc73b92506d8b1c38 | AcceptabilityJudgement | SubjectiveComment-Material | Incongruent | Neither | 3171 | 3.501196 |\n| 00e0b159cf5b9abcc73b92506d8b1c38 | AcceptabilityJudgement | SubjectiveComment-Material | Congruent   | Correct | 1404 | 3.147367 |\n| 00e0b159cf5b9abcc73b92506d8b1c38 | AcceptabilityJudgement | SubjectiveComment-Material | Incongruent | Correct | 2698 | 3.431042 |\n| 021a49cde484f8fa18439f026ec99459 | AcceptabilityJudgement | Size-Nationality           | Congruent   | Correct | 1578 | 3.198107 |\n| 021a49cde484f8fa18439f026ec99459 | AcceptabilityJudgement | Size-Nationality           | Incongruent | Correct | 1719 | 3.235276 |\n| 021a49cde484f8fa18439f026ec99459 | AcceptabilityJudgement | Size-Nationality           | Congruent   | Correct | 2998 | 3.476832 |\n| 021a49cde484f8fa18439f026ec99459 | AcceptabilityJudgement | Size-Nationality           | Incongruent | Correct | 2359 | 3.372728 |\n| 021a49cde484f8fa18439f026ec99459 | AcceptabilityJudgement | Size-Nationality           | Congruent   | Correct | 1206 | 3.081347 |\n| 021a49cde484f8fa18439f026ec99459 | AcceptabilityJudgement | Size-Nationality           | Incongruent | Correct | 1239 | 3.093071 |\n| 021a49cde484f8fa18439f026ec99459 | AcceptabilityJudgement | Shape-Color                | Congruent   | Correct | 1433 | 3.156246 |\n| 021a49cde484f8fa18439f026ec99459 | AcceptabilityJudgement | Shape-Color                | Incongruent | Correct | 1942 | 3.288249 |\n| 021a49cde484f8fa18439f026ec99459 | AcceptabilityJudgement | Shape-Color                | Congruent   | Correct | 1831 | 3.262688 |\n| 021a49cde484f8fa18439f026ec99459 | AcceptabilityJudgement | Shape-Color                | Incongruent | Correct | 1641 | 3.215109 |\n| 021a49cde484f8fa18439f026ec99459 | AcceptabilityJudgement | Shape-Color                | Congruent   | Correct | 1529 | 3.184407 |\n| 021a49cde484f8fa18439f026ec99459 | AcceptabilityJudgement | Shape-Color                | Incongruent | Correct | 1237 | 3.092370 |\n| ⋮ | ⋮ | ⋮ | ⋮ | ⋮ | ⋮ | ⋮ |\n| ff9c2ed9d5c7002f4126ed7c78267912 | AcceptabilityJudgement | Shape-Color                | Congruent   | Correct | 1177 | 3.070776 |\n| ff9c2ed9d5c7002f4126ed7c78267912 | AcceptabilityJudgement | Shape-Color                | Incongruent | Correct | 6564 | 3.817169 |\n| ff9c2ed9d5c7002f4126ed7c78267912 | AcceptabilityJudgement | Shape-Color                | Congruent   | Correct | 2626 | 3.419295 |\n| ff9c2ed9d5c7002f4126ed7c78267912 | AcceptabilityJudgement | Shape-Color                | Incongruent | Correct | 2904 | 3.462997 |\n| ff9c2ed9d5c7002f4126ed7c78267912 | AcceptabilityJudgement | Shape-Color                | Congruent   | Correct | 2306 | 3.362859 |\n| ff9c2ed9d5c7002f4126ed7c78267912 | AcceptabilityJudgement | Shape-Color                | Incongruent | Correct | 2774 | 3.443106 |\n| ff9c2ed9d5c7002f4126ed7c78267912 | AcceptabilityJudgement | SubjectiveComment-Material | Congruent   | Correct | 2503 | 3.398461 |\n| ff9c2ed9d5c7002f4126ed7c78267912 | AcceptabilityJudgement | SubjectiveComment-Material | Incongruent | Correct | 1030 | 3.012837 |\n| ff9c2ed9d5c7002f4126ed7c78267912 | AcceptabilityJudgement | SubjectiveComment-Material | Congruent   | Correct | 1621 | 3.209783 |\n| ff9c2ed9d5c7002f4126ed7c78267912 | AcceptabilityJudgement | SubjectiveComment-Material | Incongruent | Wrong   | 3063 | 3.486147 |\n| ff9c2ed9d5c7002f4126ed7c78267912 | AcceptabilityJudgement | SubjectiveComment-Material | Congruent   | Correct | 1743 | 3.241297 |\n| ff9c2ed9d5c7002f4126ed7c78267912 | AcceptabilityJudgement | SubjectiveComment-Material | Incongruent | Wrong   | 5132 | 3.710287 |\n| ffb247049b32eea1ca01866adae318b6 | AcceptabilityJudgement | Size-Nationality           | Congruent   | Correct | 5539 | 3.743431 |\n| ffb247049b32eea1ca01866adae318b6 | AcceptabilityJudgement | Size-Nationality           | Incongruent | Correct | 3142 | 3.497206 |\n| ffb247049b32eea1ca01866adae318b6 | AcceptabilityJudgement | Size-Nationality           | Congruent   | Correct | 1394 | 3.144263 |\n| ffb247049b32eea1ca01866adae318b6 | AcceptabilityJudgement | Size-Nationality           | Incongruent | Correct | 4951 | 3.694693 |\n| ffb247049b32eea1ca01866adae318b6 | AcceptabilityJudgement | Size-Nationality           | Congruent   | Correct | 2198 | 3.342028 |\n| ffb247049b32eea1ca01866adae318b6 | AcceptabilityJudgement | Size-Nationality           | Incongruent | Correct | 1808 | 3.257198 |\n| ffb247049b32eea1ca01866adae318b6 | AcceptabilityJudgement | Shape-Color                | Congruent   | Correct | 2456 | 3.390228 |\n| ffb247049b32eea1ca01866adae318b6 | AcceptabilityJudgement | Shape-Color                | Incongruent | Correct | 3179 | 3.502291 |\n| ffb247049b32eea1ca01866adae318b6 | AcceptabilityJudgement | Shape-Color                | Congruent   | Correct | 4296 | 3.633064 |\n| ffb247049b32eea1ca01866adae318b6 | AcceptabilityJudgement | Shape-Color                | Incongruent | Correct | 3302 | 3.518777 |\n| ffb247049b32eea1ca01866adae318b6 | AcceptabilityJudgement | Shape-Color                | Congruent   | Correct | 2148 | 3.332034 |\n| ffb247049b32eea1ca01866adae318b6 | AcceptabilityJudgement | Shape-Color                | Incongruent | Correct | 2516 | 3.400711 |\n| ffb247049b32eea1ca01866adae318b6 | AcceptabilityJudgement | SubjectiveComment-Material | Congruent   | Correct | 2168 | 3.336059 |\n| ffb247049b32eea1ca01866adae318b6 | AcceptabilityJudgement | SubjectiveComment-Material | Incongruent | Correct | 1635 | 3.213518 |\n| ffb247049b32eea1ca01866adae318b6 | AcceptabilityJudgement | SubjectiveComment-Material | Congruent   | Correct | 2731 | 3.436322 |\n| ffb247049b32eea1ca01866adae318b6 | AcceptabilityJudgement | SubjectiveComment-Material | Incongruent | Correct | 1779 | 3.250176 |\n| ffb247049b32eea1ca01866adae318b6 | AcceptabilityJudgement | SubjectiveComment-Material | Congruent   | Correct | 3109 | 3.492621 |\n| ffb247049b32eea1ca01866adae318b6 | AcceptabilityJudgement | SubjectiveComment-Material | Incongruent | Correct | 1332 | 3.124504 |\n\n",
            "text/latex": "A data.frame: 2487 × 7\n\\begin{tabular}{lllllll}\n ParticipantID & TypeOfQuestion & TypeOfStimuli & WordOrder & ResponseAcceptabilityJudgement & RT & RTlog\\\\\n <fct> & <fct> & <fct> & <fct> & <fct> & <int> & <dbl>\\\\\n\\hline\n\t 00e0b159cf5b9abcc73b92506d8b1c38 & AcceptabilityJudgement & Size-Nationality           & Congruent   & Correct & 1591 & 3.201670\\\\\n\t 00e0b159cf5b9abcc73b92506d8b1c38 & AcceptabilityJudgement & Size-Nationality           & Incongruent & Correct & 5504 & 3.740678\\\\\n\t 00e0b159cf5b9abcc73b92506d8b1c38 & AcceptabilityJudgement & Size-Nationality           & Congruent   & Correct & 1333 & 3.124830\\\\\n\t 00e0b159cf5b9abcc73b92506d8b1c38 & AcceptabilityJudgement & Size-Nationality           & Incongruent & Correct & 1543 & 3.188366\\\\\n\t 00e0b159cf5b9abcc73b92506d8b1c38 & AcceptabilityJudgement & Size-Nationality           & Congruent   & Correct & 1815 & 3.258877\\\\\n\t 00e0b159cf5b9abcc73b92506d8b1c38 & AcceptabilityJudgement & Size-Nationality           & Incongruent & Correct & 3059 & 3.485579\\\\\n\t 00e0b159cf5b9abcc73b92506d8b1c38 & AcceptabilityJudgement & Shape-Color                & Congruent   & Correct & 1700 & 3.230449\\\\\n\t 00e0b159cf5b9abcc73b92506d8b1c38 & AcceptabilityJudgement & Shape-Color                & Incongruent & Correct & 2745 & 3.438542\\\\\n\t 00e0b159cf5b9abcc73b92506d8b1c38 & AcceptabilityJudgement & Shape-Color                & Congruent   & Correct & 3237 & 3.510143\\\\\n\t 00e0b159cf5b9abcc73b92506d8b1c38 & AcceptabilityJudgement & Shape-Color                & Incongruent & Correct & 2911 & 3.464042\\\\\n\t 00e0b159cf5b9abcc73b92506d8b1c38 & AcceptabilityJudgement & Shape-Color                & Congruent   & Correct & 1878 & 3.273696\\\\\n\t 00e0b159cf5b9abcc73b92506d8b1c38 & AcceptabilityJudgement & Shape-Color                & Incongruent & Correct & 3796 & 3.579326\\\\\n\t 00e0b159cf5b9abcc73b92506d8b1c38 & AcceptabilityJudgement & SubjectiveComment-Material & Congruent   & Wrong   & 1168 & 3.067443\\\\\n\t 00e0b159cf5b9abcc73b92506d8b1c38 & AcceptabilityJudgement & SubjectiveComment-Material & Incongruent & Correct & 2429 & 3.385428\\\\\n\t 00e0b159cf5b9abcc73b92506d8b1c38 & AcceptabilityJudgement & SubjectiveComment-Material & Congruent   & Correct & 2189 & 3.340246\\\\\n\t 00e0b159cf5b9abcc73b92506d8b1c38 & AcceptabilityJudgement & SubjectiveComment-Material & Incongruent & Neither & 3171 & 3.501196\\\\\n\t 00e0b159cf5b9abcc73b92506d8b1c38 & AcceptabilityJudgement & SubjectiveComment-Material & Congruent   & Correct & 1404 & 3.147367\\\\\n\t 00e0b159cf5b9abcc73b92506d8b1c38 & AcceptabilityJudgement & SubjectiveComment-Material & Incongruent & Correct & 2698 & 3.431042\\\\\n\t 021a49cde484f8fa18439f026ec99459 & AcceptabilityJudgement & Size-Nationality           & Congruent   & Correct & 1578 & 3.198107\\\\\n\t 021a49cde484f8fa18439f026ec99459 & AcceptabilityJudgement & Size-Nationality           & Incongruent & Correct & 1719 & 3.235276\\\\\n\t 021a49cde484f8fa18439f026ec99459 & AcceptabilityJudgement & Size-Nationality           & Congruent   & Correct & 2998 & 3.476832\\\\\n\t 021a49cde484f8fa18439f026ec99459 & AcceptabilityJudgement & Size-Nationality           & Incongruent & Correct & 2359 & 3.372728\\\\\n\t 021a49cde484f8fa18439f026ec99459 & AcceptabilityJudgement & Size-Nationality           & Congruent   & Correct & 1206 & 3.081347\\\\\n\t 021a49cde484f8fa18439f026ec99459 & AcceptabilityJudgement & Size-Nationality           & Incongruent & Correct & 1239 & 3.093071\\\\\n\t 021a49cde484f8fa18439f026ec99459 & AcceptabilityJudgement & Shape-Color                & Congruent   & Correct & 1433 & 3.156246\\\\\n\t 021a49cde484f8fa18439f026ec99459 & AcceptabilityJudgement & Shape-Color                & Incongruent & Correct & 1942 & 3.288249\\\\\n\t 021a49cde484f8fa18439f026ec99459 & AcceptabilityJudgement & Shape-Color                & Congruent   & Correct & 1831 & 3.262688\\\\\n\t 021a49cde484f8fa18439f026ec99459 & AcceptabilityJudgement & Shape-Color                & Incongruent & Correct & 1641 & 3.215109\\\\\n\t 021a49cde484f8fa18439f026ec99459 & AcceptabilityJudgement & Shape-Color                & Congruent   & Correct & 1529 & 3.184407\\\\\n\t 021a49cde484f8fa18439f026ec99459 & AcceptabilityJudgement & Shape-Color                & Incongruent & Correct & 1237 & 3.092370\\\\\n\t ⋮ & ⋮ & ⋮ & ⋮ & ⋮ & ⋮ & ⋮\\\\\n\t ff9c2ed9d5c7002f4126ed7c78267912 & AcceptabilityJudgement & Shape-Color                & Congruent   & Correct & 1177 & 3.070776\\\\\n\t ff9c2ed9d5c7002f4126ed7c78267912 & AcceptabilityJudgement & Shape-Color                & Incongruent & Correct & 6564 & 3.817169\\\\\n\t ff9c2ed9d5c7002f4126ed7c78267912 & AcceptabilityJudgement & Shape-Color                & Congruent   & Correct & 2626 & 3.419295\\\\\n\t ff9c2ed9d5c7002f4126ed7c78267912 & AcceptabilityJudgement & Shape-Color                & Incongruent & Correct & 2904 & 3.462997\\\\\n\t ff9c2ed9d5c7002f4126ed7c78267912 & AcceptabilityJudgement & Shape-Color                & Congruent   & Correct & 2306 & 3.362859\\\\\n\t ff9c2ed9d5c7002f4126ed7c78267912 & AcceptabilityJudgement & Shape-Color                & Incongruent & Correct & 2774 & 3.443106\\\\\n\t ff9c2ed9d5c7002f4126ed7c78267912 & AcceptabilityJudgement & SubjectiveComment-Material & Congruent   & Correct & 2503 & 3.398461\\\\\n\t ff9c2ed9d5c7002f4126ed7c78267912 & AcceptabilityJudgement & SubjectiveComment-Material & Incongruent & Correct & 1030 & 3.012837\\\\\n\t ff9c2ed9d5c7002f4126ed7c78267912 & AcceptabilityJudgement & SubjectiveComment-Material & Congruent   & Correct & 1621 & 3.209783\\\\\n\t ff9c2ed9d5c7002f4126ed7c78267912 & AcceptabilityJudgement & SubjectiveComment-Material & Incongruent & Wrong   & 3063 & 3.486147\\\\\n\t ff9c2ed9d5c7002f4126ed7c78267912 & AcceptabilityJudgement & SubjectiveComment-Material & Congruent   & Correct & 1743 & 3.241297\\\\\n\t ff9c2ed9d5c7002f4126ed7c78267912 & AcceptabilityJudgement & SubjectiveComment-Material & Incongruent & Wrong   & 5132 & 3.710287\\\\\n\t ffb247049b32eea1ca01866adae318b6 & AcceptabilityJudgement & Size-Nationality           & Congruent   & Correct & 5539 & 3.743431\\\\\n\t ffb247049b32eea1ca01866adae318b6 & AcceptabilityJudgement & Size-Nationality           & Incongruent & Correct & 3142 & 3.497206\\\\\n\t ffb247049b32eea1ca01866adae318b6 & AcceptabilityJudgement & Size-Nationality           & Congruent   & Correct & 1394 & 3.144263\\\\\n\t ffb247049b32eea1ca01866adae318b6 & AcceptabilityJudgement & Size-Nationality           & Incongruent & Correct & 4951 & 3.694693\\\\\n\t ffb247049b32eea1ca01866adae318b6 & AcceptabilityJudgement & Size-Nationality           & Congruent   & Correct & 2198 & 3.342028\\\\\n\t ffb247049b32eea1ca01866adae318b6 & AcceptabilityJudgement & Size-Nationality           & Incongruent & Correct & 1808 & 3.257198\\\\\n\t ffb247049b32eea1ca01866adae318b6 & AcceptabilityJudgement & Shape-Color                & Congruent   & Correct & 2456 & 3.390228\\\\\n\t ffb247049b32eea1ca01866adae318b6 & AcceptabilityJudgement & Shape-Color                & Incongruent & Correct & 3179 & 3.502291\\\\\n\t ffb247049b32eea1ca01866adae318b6 & AcceptabilityJudgement & Shape-Color                & Congruent   & Correct & 4296 & 3.633064\\\\\n\t ffb247049b32eea1ca01866adae318b6 & AcceptabilityJudgement & Shape-Color                & Incongruent & Correct & 3302 & 3.518777\\\\\n\t ffb247049b32eea1ca01866adae318b6 & AcceptabilityJudgement & Shape-Color                & Congruent   & Correct & 2148 & 3.332034\\\\\n\t ffb247049b32eea1ca01866adae318b6 & AcceptabilityJudgement & Shape-Color                & Incongruent & Correct & 2516 & 3.400711\\\\\n\t ffb247049b32eea1ca01866adae318b6 & AcceptabilityJudgement & SubjectiveComment-Material & Congruent   & Correct & 2168 & 3.336059\\\\\n\t ffb247049b32eea1ca01866adae318b6 & AcceptabilityJudgement & SubjectiveComment-Material & Incongruent & Correct & 1635 & 3.213518\\\\\n\t ffb247049b32eea1ca01866adae318b6 & AcceptabilityJudgement & SubjectiveComment-Material & Congruent   & Correct & 2731 & 3.436322\\\\\n\t ffb247049b32eea1ca01866adae318b6 & AcceptabilityJudgement & SubjectiveComment-Material & Incongruent & Correct & 1779 & 3.250176\\\\\n\t ffb247049b32eea1ca01866adae318b6 & AcceptabilityJudgement & SubjectiveComment-Material & Congruent   & Correct & 3109 & 3.492621\\\\\n\t ffb247049b32eea1ca01866adae318b6 & AcceptabilityJudgement & SubjectiveComment-Material & Incongruent & Correct & 1332 & 3.124504\\\\\n\\end{tabular}\n",
            "text/plain": [
              "     ParticipantID                    TypeOfQuestion        \n",
              "1    00e0b159cf5b9abcc73b92506d8b1c38 AcceptabilityJudgement\n",
              "2    00e0b159cf5b9abcc73b92506d8b1c38 AcceptabilityJudgement\n",
              "3    00e0b159cf5b9abcc73b92506d8b1c38 AcceptabilityJudgement\n",
              "4    00e0b159cf5b9abcc73b92506d8b1c38 AcceptabilityJudgement\n",
              "5    00e0b159cf5b9abcc73b92506d8b1c38 AcceptabilityJudgement\n",
              "6    00e0b159cf5b9abcc73b92506d8b1c38 AcceptabilityJudgement\n",
              "7    00e0b159cf5b9abcc73b92506d8b1c38 AcceptabilityJudgement\n",
              "8    00e0b159cf5b9abcc73b92506d8b1c38 AcceptabilityJudgement\n",
              "9    00e0b159cf5b9abcc73b92506d8b1c38 AcceptabilityJudgement\n",
              "10   00e0b159cf5b9abcc73b92506d8b1c38 AcceptabilityJudgement\n",
              "11   00e0b159cf5b9abcc73b92506d8b1c38 AcceptabilityJudgement\n",
              "12   00e0b159cf5b9abcc73b92506d8b1c38 AcceptabilityJudgement\n",
              "13   00e0b159cf5b9abcc73b92506d8b1c38 AcceptabilityJudgement\n",
              "14   00e0b159cf5b9abcc73b92506d8b1c38 AcceptabilityJudgement\n",
              "15   00e0b159cf5b9abcc73b92506d8b1c38 AcceptabilityJudgement\n",
              "16   00e0b159cf5b9abcc73b92506d8b1c38 AcceptabilityJudgement\n",
              "17   00e0b159cf5b9abcc73b92506d8b1c38 AcceptabilityJudgement\n",
              "18   00e0b159cf5b9abcc73b92506d8b1c38 AcceptabilityJudgement\n",
              "19   021a49cde484f8fa18439f026ec99459 AcceptabilityJudgement\n",
              "20   021a49cde484f8fa18439f026ec99459 AcceptabilityJudgement\n",
              "21   021a49cde484f8fa18439f026ec99459 AcceptabilityJudgement\n",
              "22   021a49cde484f8fa18439f026ec99459 AcceptabilityJudgement\n",
              "23   021a49cde484f8fa18439f026ec99459 AcceptabilityJudgement\n",
              "24   021a49cde484f8fa18439f026ec99459 AcceptabilityJudgement\n",
              "25   021a49cde484f8fa18439f026ec99459 AcceptabilityJudgement\n",
              "26   021a49cde484f8fa18439f026ec99459 AcceptabilityJudgement\n",
              "27   021a49cde484f8fa18439f026ec99459 AcceptabilityJudgement\n",
              "28   021a49cde484f8fa18439f026ec99459 AcceptabilityJudgement\n",
              "29   021a49cde484f8fa18439f026ec99459 AcceptabilityJudgement\n",
              "30   021a49cde484f8fa18439f026ec99459 AcceptabilityJudgement\n",
              "⋮    ⋮                                ⋮                     \n",
              "2458 ff9c2ed9d5c7002f4126ed7c78267912 AcceptabilityJudgement\n",
              "2459 ff9c2ed9d5c7002f4126ed7c78267912 AcceptabilityJudgement\n",
              "2460 ff9c2ed9d5c7002f4126ed7c78267912 AcceptabilityJudgement\n",
              "2461 ff9c2ed9d5c7002f4126ed7c78267912 AcceptabilityJudgement\n",
              "2462 ff9c2ed9d5c7002f4126ed7c78267912 AcceptabilityJudgement\n",
              "2463 ff9c2ed9d5c7002f4126ed7c78267912 AcceptabilityJudgement\n",
              "2464 ff9c2ed9d5c7002f4126ed7c78267912 AcceptabilityJudgement\n",
              "2465 ff9c2ed9d5c7002f4126ed7c78267912 AcceptabilityJudgement\n",
              "2466 ff9c2ed9d5c7002f4126ed7c78267912 AcceptabilityJudgement\n",
              "2467 ff9c2ed9d5c7002f4126ed7c78267912 AcceptabilityJudgement\n",
              "2468 ff9c2ed9d5c7002f4126ed7c78267912 AcceptabilityJudgement\n",
              "2469 ff9c2ed9d5c7002f4126ed7c78267912 AcceptabilityJudgement\n",
              "2470 ffb247049b32eea1ca01866adae318b6 AcceptabilityJudgement\n",
              "2471 ffb247049b32eea1ca01866adae318b6 AcceptabilityJudgement\n",
              "2472 ffb247049b32eea1ca01866adae318b6 AcceptabilityJudgement\n",
              "2473 ffb247049b32eea1ca01866adae318b6 AcceptabilityJudgement\n",
              "2474 ffb247049b32eea1ca01866adae318b6 AcceptabilityJudgement\n",
              "2475 ffb247049b32eea1ca01866adae318b6 AcceptabilityJudgement\n",
              "2476 ffb247049b32eea1ca01866adae318b6 AcceptabilityJudgement\n",
              "2477 ffb247049b32eea1ca01866adae318b6 AcceptabilityJudgement\n",
              "2478 ffb247049b32eea1ca01866adae318b6 AcceptabilityJudgement\n",
              "2479 ffb247049b32eea1ca01866adae318b6 AcceptabilityJudgement\n",
              "2480 ffb247049b32eea1ca01866adae318b6 AcceptabilityJudgement\n",
              "2481 ffb247049b32eea1ca01866adae318b6 AcceptabilityJudgement\n",
              "2482 ffb247049b32eea1ca01866adae318b6 AcceptabilityJudgement\n",
              "2483 ffb247049b32eea1ca01866adae318b6 AcceptabilityJudgement\n",
              "2484 ffb247049b32eea1ca01866adae318b6 AcceptabilityJudgement\n",
              "2485 ffb247049b32eea1ca01866adae318b6 AcceptabilityJudgement\n",
              "2486 ffb247049b32eea1ca01866adae318b6 AcceptabilityJudgement\n",
              "2487 ffb247049b32eea1ca01866adae318b6 AcceptabilityJudgement\n",
              "     TypeOfStimuli              WordOrder   ResponseAcceptabilityJudgement RT  \n",
              "1    Size-Nationality           Congruent   Correct                        1591\n",
              "2    Size-Nationality           Incongruent Correct                        5504\n",
              "3    Size-Nationality           Congruent   Correct                        1333\n",
              "4    Size-Nationality           Incongruent Correct                        1543\n",
              "5    Size-Nationality           Congruent   Correct                        1815\n",
              "6    Size-Nationality           Incongruent Correct                        3059\n",
              "7    Shape-Color                Congruent   Correct                        1700\n",
              "8    Shape-Color                Incongruent Correct                        2745\n",
              "9    Shape-Color                Congruent   Correct                        3237\n",
              "10   Shape-Color                Incongruent Correct                        2911\n",
              "11   Shape-Color                Congruent   Correct                        1878\n",
              "12   Shape-Color                Incongruent Correct                        3796\n",
              "13   SubjectiveComment-Material Congruent   Wrong                          1168\n",
              "14   SubjectiveComment-Material Incongruent Correct                        2429\n",
              "15   SubjectiveComment-Material Congruent   Correct                        2189\n",
              "16   SubjectiveComment-Material Incongruent Neither                        3171\n",
              "17   SubjectiveComment-Material Congruent   Correct                        1404\n",
              "18   SubjectiveComment-Material Incongruent Correct                        2698\n",
              "19   Size-Nationality           Congruent   Correct                        1578\n",
              "20   Size-Nationality           Incongruent Correct                        1719\n",
              "21   Size-Nationality           Congruent   Correct                        2998\n",
              "22   Size-Nationality           Incongruent Correct                        2359\n",
              "23   Size-Nationality           Congruent   Correct                        1206\n",
              "24   Size-Nationality           Incongruent Correct                        1239\n",
              "25   Shape-Color                Congruent   Correct                        1433\n",
              "26   Shape-Color                Incongruent Correct                        1942\n",
              "27   Shape-Color                Congruent   Correct                        1831\n",
              "28   Shape-Color                Incongruent Correct                        1641\n",
              "29   Shape-Color                Congruent   Correct                        1529\n",
              "30   Shape-Color                Incongruent Correct                        1237\n",
              "⋮    ⋮                          ⋮           ⋮                              ⋮   \n",
              "2458 Shape-Color                Congruent   Correct                        1177\n",
              "2459 Shape-Color                Incongruent Correct                        6564\n",
              "2460 Shape-Color                Congruent   Correct                        2626\n",
              "2461 Shape-Color                Incongruent Correct                        2904\n",
              "2462 Shape-Color                Congruent   Correct                        2306\n",
              "2463 Shape-Color                Incongruent Correct                        2774\n",
              "2464 SubjectiveComment-Material Congruent   Correct                        2503\n",
              "2465 SubjectiveComment-Material Incongruent Correct                        1030\n",
              "2466 SubjectiveComment-Material Congruent   Correct                        1621\n",
              "2467 SubjectiveComment-Material Incongruent Wrong                          3063\n",
              "2468 SubjectiveComment-Material Congruent   Correct                        1743\n",
              "2469 SubjectiveComment-Material Incongruent Wrong                          5132\n",
              "2470 Size-Nationality           Congruent   Correct                        5539\n",
              "2471 Size-Nationality           Incongruent Correct                        3142\n",
              "2472 Size-Nationality           Congruent   Correct                        1394\n",
              "2473 Size-Nationality           Incongruent Correct                        4951\n",
              "2474 Size-Nationality           Congruent   Correct                        2198\n",
              "2475 Size-Nationality           Incongruent Correct                        1808\n",
              "2476 Shape-Color                Congruent   Correct                        2456\n",
              "2477 Shape-Color                Incongruent Correct                        3179\n",
              "2478 Shape-Color                Congruent   Correct                        4296\n",
              "2479 Shape-Color                Incongruent Correct                        3302\n",
              "2480 Shape-Color                Congruent   Correct                        2148\n",
              "2481 Shape-Color                Incongruent Correct                        2516\n",
              "2482 SubjectiveComment-Material Congruent   Correct                        2168\n",
              "2483 SubjectiveComment-Material Incongruent Correct                        1635\n",
              "2484 SubjectiveComment-Material Congruent   Correct                        2731\n",
              "2485 SubjectiveComment-Material Incongruent Correct                        1779\n",
              "2486 SubjectiveComment-Material Congruent   Correct                        3109\n",
              "2487 SubjectiveComment-Material Incongruent Correct                        1332\n",
              "     RTlog   \n",
              "1    3.201670\n",
              "2    3.740678\n",
              "3    3.124830\n",
              "4    3.188366\n",
              "5    3.258877\n",
              "6    3.485579\n",
              "7    3.230449\n",
              "8    3.438542\n",
              "9    3.510143\n",
              "10   3.464042\n",
              "11   3.273696\n",
              "12   3.579326\n",
              "13   3.067443\n",
              "14   3.385428\n",
              "15   3.340246\n",
              "16   3.501196\n",
              "17   3.147367\n",
              "18   3.431042\n",
              "19   3.198107\n",
              "20   3.235276\n",
              "21   3.476832\n",
              "22   3.372728\n",
              "23   3.081347\n",
              "24   3.093071\n",
              "25   3.156246\n",
              "26   3.288249\n",
              "27   3.262688\n",
              "28   3.215109\n",
              "29   3.184407\n",
              "30   3.092370\n",
              "⋮    ⋮       \n",
              "2458 3.070776\n",
              "2459 3.817169\n",
              "2460 3.419295\n",
              "2461 3.462997\n",
              "2462 3.362859\n",
              "2463 3.443106\n",
              "2464 3.398461\n",
              "2465 3.012837\n",
              "2466 3.209783\n",
              "2467 3.486147\n",
              "2468 3.241297\n",
              "2469 3.710287\n",
              "2470 3.743431\n",
              "2471 3.497206\n",
              "2472 3.144263\n",
              "2473 3.694693\n",
              "2474 3.342028\n",
              "2475 3.257198\n",
              "2476 3.390228\n",
              "2477 3.502291\n",
              "2478 3.633064\n",
              "2479 3.518777\n",
              "2480 3.332034\n",
              "2481 3.400711\n",
              "2482 3.336059\n",
              "2483 3.213518\n",
              "2484 3.436322\n",
              "2485 3.250176\n",
              "2486 3.492621\n",
              "2487 3.124504"
            ]
          },
          "metadata": {}
        }
      ]
    },
    {
      "cell_type": "markdown",
      "source": [
        "1.8 Тест на разницу средних\n",
        "Проанализируйте разницу в среднем значении RTlog у двух групп (порядок слов в стимуле: конгруэнтный vs неконгруэнтный). Сформулируйте нулевую и альтернативную гипотезу, аргументируйте, какой тип t-test’а или его аналогов следует применить, сделайте статистический и содержательный вывод о значимости различия."
      ],
      "metadata": {
        "id": "bftk3Wh0XIh7"
      }
    },
    {
      "cell_type": "code",
      "source": [
        "# Нулевая гипотеза H0: Нет различий в среднем значении RTlog между порядками слов. m(когруэнтные) = m(неконгруэнтные)\n",
        "# Альтернативная гипотеза H1: Среднее значение RTlog для разных порядков слов различается."
      ],
      "metadata": {
        "id": "Hs2JJhR5ZBKT"
      },
      "execution_count": 24,
      "outputs": []
    },
    {
      "cell_type": "code",
      "source": [
        "# Выше говорилось, что наши данные не нормальны, поэтому мы используем непараметричесский тест Манна-Уитни.\n",
        "# Результат: p-value меньше стандартного уровня доверия 0.05, следовательно, нулевая гипотеза отвергается в сторону альтернативной.\n",
        "# То есть наблюдается связь между временем реакции и порядком слов.\n",
        "wilcox.test(RTlog ~ WordOrder, data = mono)"
      ],
      "metadata": {
        "colab": {
          "base_uri": "https://localhost:8080/",
          "height": 124
        },
        "id": "6e8_RRsdomZB",
        "outputId": "f7805d0d-749b-4ab9-bca9-3878fc69375a"
      },
      "execution_count": 26,
      "outputs": [
        {
          "output_type": "display_data",
          "data": {
            "text/plain": [
              "\n",
              "\tWilcoxon rank sum test with continuity correction\n",
              "\n",
              "data:  RTlog by WordOrder\n",
              "W = 5546667, p-value = 6.465e-11\n",
              "alternative hypothesis: true location shift is not equal to 0\n"
            ]
          },
          "metadata": {}
        }
      ]
    },
    {
      "cell_type": "markdown",
      "source": [
        "1.9\n",
        "ANOVA. Проанализируйте разницу в среднем значении RTlog, сгруппировав данные по трем условиям (прилагательное размера > прилагательное национальности, прилагательное цвета > прилагательное формы, прилагательное субъективного комментария > прилагательное материала) и по участнику. Сформулируйте нулевую и альтернативную гипотезу, аргументируйте, какой тип дисперсионного анализа следует применить, сделайте статистический и содержательный вывод о значимости различия. Это задание выполняется только для ответов при порядке слов Incongruent."
      ],
      "metadata": {
        "id": "QE9E5Bc6yQE9"
      }
    },
    {
      "cell_type": "code",
      "source": [
        "# Сформулируем гипотезы:\n",
        "# Нулевая гипотеза H1: Нет связи между средними значениями RTlog и тремя условиями.\n",
        "# Альтернативная гипотеза H0: Есть связь между средними значениями RTlog и условиями."
      ],
      "metadata": {
        "id": "bLuJGPbTyrIU"
      },
      "execution_count": 27,
      "outputs": []
    },
    {
      "cell_type": "code",
      "source": [
        "mono_anova <- filter(mono, WordOrder == \"Incongruent\")\n",
        "anova_model <- aov(RTlog ~ TypeOfStimuli, data = mono_anova)\n",
        "summary(anova_model)\n",
        "# p-value меньше уровня значимости 0.05, значит, нулевую гипотезу мы отвергаем в пользу альтернативной.\n",
        "# Следовательно, между средним RTlog и условиями есть связь. То есть время реакции участника зависит от вида стимула."
      ],
      "metadata": {
        "colab": {
          "base_uri": "https://localhost:8080/",
          "height": 106
        },
        "id": "B-3gR6pczNJE",
        "outputId": "e9564d41-ac7f-4c5b-c7f3-77f860338ecb"
      },
      "execution_count": 28,
      "outputs": [
        {
          "output_type": "display_data",
          "data": {
            "text/plain": [
              "                Df Sum Sq Mean Sq F value Pr(>F)    \n",
              "TypeOfStimuli    4   3.78  0.9453   21.33 <2e-16 ***\n",
              "Residuals     3487 154.56  0.0443                   \n",
              "---\n",
              "Signif. codes:  0 ‘***’ 0.001 ‘**’ 0.01 ‘*’ 0.05 ‘.’ 0.1 ‘ ’ 1"
            ]
          },
          "metadata": {}
        }
      ]
    },
    {
      "cell_type": "markdown",
      "source": [
        "1.10 Post-hoc тест\n",
        "Примените TukeyHSD тест, чтобы выяснить, какие конкретно пары условий TypeOfStimuli отличаются друг от друга по среднему значению RTlog.\n",
        "Это задание, аналогично, выполняется только для ответов при порядке слов Incongruent."
      ],
      "metadata": {
        "id": "DqhA2vbN_Q6J"
      }
    },
    {
      "cell_type": "code",
      "source": [
        "TukeyHSD(anova_model, \"TypeOfStimuli\")\n",
        "# Теперь вывод ANOVA можно уточнить.\n",
        "# В двух парах набюлюдается p-value < 0.05, т.е. Shape-Color и Size-Nationality статистически значимо отличаются от SubjectiveComment-Material.\n",
        "# Ср. SubjectiveComment + Material vs. Shape + Color (p = 0.0001527)\n",
        "# и ср. SubjectiveComment + Material vs. Size + Nationality (p = 0.0045428)"
      ],
      "metadata": {
        "colab": {
          "base_uri": "https://localhost:8080/",
          "height": 517
        },
        "id": "GUR25uKDBGhi",
        "outputId": "301b7d28-ca71-4ef7-aaf1-083de998fad7"
      },
      "execution_count": 29,
      "outputs": [
        {
          "output_type": "display_data",
          "data": {
            "text/plain": [
              "  Tukey multiple comparisons of means\n",
              "    95% family-wise confidence level\n",
              "\n",
              "Fit: aov(formula = RTlog ~ TypeOfStimuli, data = mono_anova)\n",
              "\n",
              "$TypeOfStimuli\n",
              "                                                      diff          lwr\n",
              "FillerUnacceptable-FillerAcceptable           -0.005617642 -0.034872219\n",
              "Shape-Color-FillerAcceptable                   0.079992375  0.041890645\n",
              "Size-Nationality-FillerAcceptable              0.067783558  0.029681829\n",
              "SubjectiveComment-Material-FillerAcceptable    0.017160151 -0.020941578\n",
              "Shape-Color-FillerUnacceptable                 0.085610016  0.054364529\n",
              "Size-Nationality-FillerUnacceptable            0.073401200  0.042155713\n",
              "SubjectiveComment-Material-FillerUnacceptable  0.022777793 -0.008467694\n",
              "Size-Nationality-Shape-Color                  -0.012208816 -0.051859692\n",
              "SubjectiveComment-Material-Shape-Color        -0.062832223 -0.102483099\n",
              "SubjectiveComment-Material-Size-Nationality   -0.050623407 -0.090274282\n",
              "                                                      upr     p adj\n",
              "FillerUnacceptable-FillerAcceptable            0.02363694 0.9849390\n",
              "Shape-Color-FillerAcceptable                   0.11809410 0.0000001\n",
              "Size-Nationality-FillerAcceptable              0.10588529 0.0000124\n",
              "SubjectiveComment-Material-FillerAcceptable    0.05526188 0.7343153\n",
              "Shape-Color-FillerUnacceptable                 0.11685550 0.0000000\n",
              "Size-Nationality-FillerUnacceptable            0.10464669 0.0000000\n",
              "SubjectiveComment-Material-FillerUnacceptable  0.05402328 0.2712172\n",
              "Size-Nationality-Shape-Color                   0.02744206 0.9180207\n",
              "SubjectiveComment-Material-Shape-Color        -0.02318135 0.0001527\n",
              "SubjectiveComment-Material-Size-Nationality   -0.01097253 0.0045428\n"
            ]
          },
          "metadata": {}
        }
      ]
    },
    {
      "cell_type": "code",
      "source": [
        "# Визуализация (поворачиваем график и увеличиваем отступ слева, чтобы влезли названия пар)\n",
        "par(mar = c(10, 10, 10, 10))\n",
        "plot(TukeyHSD(anova_model, \"TypeOfStimuli\"), las = 2)\n",
        "# Именно пары SubjectiveComment + Material vs. Shape + Color и SubjectiveComment + Material vs. Size + Nationality не пересекают ноль (вертикальную линию в центре), следовательно, считаются значимыми."
      ],
      "metadata": {
        "colab": {
          "base_uri": "https://localhost:8080/",
          "height": 437
        },
        "id": "ZHIpM8nr9rDE",
        "outputId": "c6aae3de-3890-4fe7-f422-79b3f01546ca"
      },
      "execution_count": 43,
      "outputs": [
        {
          "output_type": "display_data",
          "data": {
            "text/plain": [
              "Plot with title “95% family-wise confidence level\n",
              "”"
            ],
            "image/png": "[encoded data removed]"
          },
          "metadata": {
            "image/png": {
              "width": 420,
              "height": 420
            }
          }
        }
      ]
    }
  ]
}
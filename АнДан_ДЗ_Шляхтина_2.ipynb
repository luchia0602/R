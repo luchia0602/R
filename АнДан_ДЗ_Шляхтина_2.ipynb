{
  "nbformat": 4,
  "nbformat_minor": 0,
  "metadata": {
    "colab": {
      "provenance": []
    },
    "kernelspec": {
      "name": "ir",
      "display_name": "R"
    },
    "language_info": {
      "name": "R"
    }
  },
  "cells": [
    {
      "cell_type": "markdown",
      "source": [
        "ШЛЯХТИНА ЛЮДМИЛА"
      ],
      "metadata": {
        "id": "0s-pBBFFOUm5"
      }
    },
    {
      "cell_type": "markdown",
      "source": [
        "1. Частотность и фонетика\n",
        "(первая часть домашнего задания строится на тех же данных, что были в предыдущем домашнем задании)\n",
        "\n",
        "Во многих лингвистических исследованиях отмечается, что часто используемые в языке слова звучат короче, а при их произнесении наблюдается редукция и коартикуляция. Работа Fabian Tomaschek et al. (2018) исследует гипотезу, что моторные навыки произнесения улучшаются с опытом, который, в свою очередь, напрямую связан с частотностью слова. Ученые попросили испытуемых (17 бакалавров университета Тюбингена, 8 мужчин и 9 женщин) прочитать вслух немецкие глаголы, содержащие звук [a:] в основе. Испытуемые были поставлены в экспериментальные условия, которые исподволь заставляли их читать быстрее или медленнее (slow/fast condition).\n",
        "\n",
        "В этом задании мы просим вас сравнить длину звучания всего слова целиком, а также длину звучания интересующего ученых сегмента (звука [a:]) в условиях slow и fast. Хотя логично предположить, что в условии fast произнесение и слов, и сегментов будет короче, все же нужно убедиться, что данные это подтверждают, прежде чем переходить к более сложному анализу по сути вопроса. Кроме того, мы будем уверены, что экспериментальные условия были должным образом соблюдены, ученые не запутались в кодировании данных и документировали результаты корректно.\n",
        "\n",
        "Интересующие нас переменные:\n",
        "\n",
        "LogDurationW - log-transformed word duration (логарифм длины произнесения слова)\n",
        "LogDurationA - log-transformed segment duration (логарифм длины произнесения сегмента)\n",
        "Cond - condition: slow vs. fast (условие)."
      ],
      "metadata": {
        "id": "immrR7L5OaTH"
      }
    },
    {
      "cell_type": "markdown",
      "source": [
        "1.0 Загрузка данных\n",
        "Загрузим пакет tidyverse, а данные загрузим в переменную dur_word_freq."
      ],
      "metadata": {
        "id": "uhyw2O4hOfT-"
      }
    },
    {
      "cell_type": "code",
      "execution_count": 1,
      "metadata": {
        "colab": {
          "base_uri": "https://localhost:8080/"
        },
        "id": "592F6y7vDeWc",
        "outputId": "93834340-2eab-42ae-df52-a93668fe59d7"
      },
      "outputs": [
        {
          "output_type": "stream",
          "name": "stderr",
          "text": [
            "── \u001b[1mAttaching core tidyverse packages\u001b[22m ──────────────────────── tidyverse 2.0.0 ──\n",
            "\u001b[32m✔\u001b[39m \u001b[34mdplyr    \u001b[39m 1.1.4     \u001b[32m✔\u001b[39m \u001b[34mreadr    \u001b[39m 2.1.5\n",
            "\u001b[32m✔\u001b[39m \u001b[34mforcats  \u001b[39m 1.0.0     \u001b[32m✔\u001b[39m \u001b[34mstringr  \u001b[39m 1.5.1\n",
            "\u001b[32m✔\u001b[39m \u001b[34mggplot2  \u001b[39m 3.5.1     \u001b[32m✔\u001b[39m \u001b[34mtibble   \u001b[39m 3.2.1\n",
            "\u001b[32m✔\u001b[39m \u001b[34mlubridate\u001b[39m 1.9.4     \u001b[32m✔\u001b[39m \u001b[34mtidyr    \u001b[39m 1.3.1\n",
            "\u001b[32m✔\u001b[39m \u001b[34mpurrr    \u001b[39m 1.0.2     \n",
            "── \u001b[1mConflicts\u001b[22m ────────────────────────────────────────── tidyverse_conflicts() ──\n",
            "\u001b[31m✖\u001b[39m \u001b[34mdplyr\u001b[39m::\u001b[32mfilter()\u001b[39m masks \u001b[34mstats\u001b[39m::filter()\n",
            "\u001b[31m✖\u001b[39m \u001b[34mdplyr\u001b[39m::\u001b[32mlag()\u001b[39m    masks \u001b[34mstats\u001b[39m::lag()\n",
            "\u001b[36mℹ\u001b[39m Use the conflicted package (\u001b[3m\u001b[34m<http://conflicted.r-lib.org/>\u001b[39m\u001b[23m) to force all conflicts to become errors\n",
            "\u001b[1m\u001b[22mNew names:\n",
            "\u001b[36m•\u001b[39m `` -> `...1`\n",
            "\u001b[1mRows: \u001b[22m\u001b[34m832\u001b[39m \u001b[1mColumns: \u001b[22m\u001b[34m8\u001b[39m\n",
            "\u001b[36m──\u001b[39m \u001b[1mColumn specification\u001b[22m \u001b[36m────────────────────────────────────────────────────────\u001b[39m\n",
            "\u001b[1mDelimiter:\u001b[22m \",\"\n",
            "\u001b[31mchr\u001b[39m (4): Lemma, Participant, Cond, Exponent\n",
            "\u001b[32mdbl\u001b[39m (4): ...1, LogDurationA, LogDurationW, Frequency\n",
            "\n",
            "\u001b[36mℹ\u001b[39m Use `spec()` to retrieve the full column specification for this data.\n",
            "\u001b[36mℹ\u001b[39m Specify the column types or set `show_col_types = FALSE` to quiet this message.\n"
          ]
        }
      ],
      "source": [
        "library(tidyverse)\n",
        "dur_word_freq <- read_csv(\"https://raw.githubusercontent.com/LingData2019/LingData2020/master/data/dur_word_frequency.csv\")"
      ]
    },
    {
      "cell_type": "markdown",
      "source": [
        "1.1 Исследуем набор данных\n",
        "Выведите все уникальные значения, которые встречаются в столбце Lemma, с помощью функции distinct(), см. фрагмент ниже:"
      ],
      "metadata": {
        "id": "WKLSV8LjOh2j"
      }
    },
    {
      "cell_type": "code",
      "source": [
        "dur_word_freq %>%\n",
        "  distinct(`Lemma`)"
      ],
      "metadata": {
        "colab": {
          "base_uri": "https://localhost:8080/",
          "height": 649
        },
        "id": "rrgeXhWdPD66",
        "outputId": "c6e18622-ae2b-4024-a8ec-685ed4144e0b"
      },
      "execution_count": 2,
      "outputs": [
        {
          "output_type": "display_data",
          "data": {
            "text/html": [
              "<table class=\"dataframe\">\n",
              "<caption>A tibble: 17 × 1</caption>\n",
              "<thead>\n",
              "\t<tr><th scope=col>Lemma</th></tr>\n",
              "\t<tr><th scope=col>&lt;chr&gt;</th></tr>\n",
              "</thead>\n",
              "<tbody>\n",
              "\t<tr><td>schab  </td></tr>\n",
              "\t<tr><td>blas   </td></tr>\n",
              "\t<tr><td>schlaf </td></tr>\n",
              "\t<tr><td>lahm   </td></tr>\n",
              "\t<tr><td>fahnd  </td></tr>\n",
              "\t<tr><td>mahn   </td></tr>\n",
              "\t<tr><td>bahn   </td></tr>\n",
              "\t<tr><td>schad  </td></tr>\n",
              "\t<tr><td>wat    </td></tr>\n",
              "\t<tr><td>tafeln </td></tr>\n",
              "\t<tr><td>latsch </td></tr>\n",
              "\t<tr><td>zahn   </td></tr>\n",
              "\t<tr><td>faseln </td></tr>\n",
              "\t<tr><td>tadeln </td></tr>\n",
              "\t<tr><td>bad    </td></tr>\n",
              "\t<tr><td>zahl   </td></tr>\n",
              "\t<tr><td>stapeln</td></tr>\n",
              "</tbody>\n",
              "</table>\n"
            ],
            "text/markdown": "\nA tibble: 17 × 1\n\n| Lemma &lt;chr&gt; |\n|---|\n| schab   |\n| blas    |\n| schlaf  |\n| lahm    |\n| fahnd   |\n| mahn    |\n| bahn    |\n| schad   |\n| wat     |\n| tafeln  |\n| latsch  |\n| zahn    |\n| faseln  |\n| tadeln  |\n| bad     |\n| zahl    |\n| stapeln |\n\n",
            "text/latex": "A tibble: 17 × 1\n\\begin{tabular}{l}\n Lemma\\\\\n <chr>\\\\\n\\hline\n\t schab  \\\\\n\t blas   \\\\\n\t schlaf \\\\\n\t lahm   \\\\\n\t fahnd  \\\\\n\t mahn   \\\\\n\t bahn   \\\\\n\t schad  \\\\\n\t wat    \\\\\n\t tafeln \\\\\n\t latsch \\\\\n\t zahn   \\\\\n\t faseln \\\\\n\t tadeln \\\\\n\t bad    \\\\\n\t zahl   \\\\\n\t stapeln\\\\\n\\end{tabular}\n",
            "text/plain": [
              "   Lemma  \n",
              "1  schab  \n",
              "2  blas   \n",
              "3  schlaf \n",
              "4  lahm   \n",
              "5  fahnd  \n",
              "6  mahn   \n",
              "7  bahn   \n",
              "8  schad  \n",
              "9  wat    \n",
              "10 tafeln \n",
              "11 latsch \n",
              "12 zahn   \n",
              "13 faseln \n",
              "14 tadeln \n",
              "15 bad    \n",
              "16 zahl   \n",
              "17 stapeln"
            ]
          },
          "metadata": {}
        }
      ]
    },
    {
      "cell_type": "markdown",
      "source": [
        "1.2 Пропущенные значения\n",
        "Давайте убедимся, что наши данные не содержат значений NA (а если содержат, то хорошо бы знать, в каких столбцах). Используйте функции map_int() и is.na(), чтобы сделать выдачу, которая позволит исследовать вопрос."
      ],
      "metadata": {
        "id": "joq7FKiTPecE"
      }
    },
    {
      "cell_type": "code",
      "source": [
        "na <- map_int(dur_word_freq, ~ sum(is.na(.x)))\n",
        "na # Судя по выводу, пропущенных данных в датасете нет."
      ],
      "metadata": {
        "colab": {
          "base_uri": "https://localhost:8080/",
          "height": 34
        },
        "id": "UYzS4vtmPgzj",
        "outputId": "272e9665-1569-4fcc-f714-ca64946564ec"
      },
      "execution_count": 3,
      "outputs": [
        {
          "output_type": "display_data",
          "data": {
            "text/html": [
              "<style>\n",
              ".dl-inline {width: auto; margin:0; padding: 0}\n",
              ".dl-inline>dt, .dl-inline>dd {float: none; width: auto; display: inline-block}\n",
              ".dl-inline>dt::after {content: \":\\0020\"; padding-right: .5ex}\n",
              ".dl-inline>dt:not(:first-of-type) {padding-left: .5ex}\n",
              "</style><dl class=dl-inline><dt>...1</dt><dd>0</dd><dt>LogDurationA</dt><dd>0</dd><dt>LogDurationW</dt><dd>0</dd><dt>Lemma</dt><dd>0</dd><dt>Participant</dt><dd>0</dd><dt>Cond</dt><dd>0</dd><dt>Exponent</dt><dd>0</dd><dt>Frequency</dt><dd>0</dd></dl>\n"
            ],
            "text/markdown": "...1\n:   0LogDurationA\n:   0LogDurationW\n:   0Lemma\n:   0Participant\n:   0Cond\n:   0Exponent\n:   0Frequency\n:   0\n\n",
            "text/latex": "\\begin{description*}\n\\item[...1] 0\n\\item[LogDurationA] 0\n\\item[LogDurationW] 0\n\\item[Lemma] 0\n\\item[Participant] 0\n\\item[Cond] 0\n\\item[Exponent] 0\n\\item[Frequency] 0\n\\end{description*}\n",
            "text/plain": [
              "        ...1 LogDurationA LogDurationW        Lemma  Participant         Cond \n",
              "           0            0            0            0            0            0 \n",
              "    Exponent    Frequency \n",
              "           0            0 "
            ]
          },
          "metadata": {}
        }
      ]
    },
    {
      "cell_type": "markdown",
      "source": [
        "1.3 Данные как факторы\n",
        "Факторы - это строковые переменные, закодированные числами (как levels) для экономии вычислительных ресурсов. Некоторые функции в R работают только с факторами, а некоторые методы чувствительны к порядку кодирования, поэтому перевод из строк в факторы иногда бывает полезен. Используя функции mutate() и across(), переведите все строковые переменные в столбцах в факторы, а затем посмотрите на структуру тиббла с помощью функции str()."
      ],
      "metadata": {
        "id": "7oQbH72Qr489"
      }
    },
    {
      "cell_type": "code",
      "source": [
        "tib <- dur_word_freq %>%\n",
        "  mutate(across(where(is.character), as.factor))\n",
        "str(tib)"
      ],
      "metadata": {
        "colab": {
          "base_uri": "https://localhost:8080/"
        },
        "id": "2qtNQZtIZBTv",
        "outputId": "caa680e9-abeb-44a0-8966-40d794700ea7"
      },
      "execution_count": 4,
      "outputs": [
        {
          "output_type": "stream",
          "name": "stdout",
          "text": [
            "tibble [832 × 8] (S3: tbl_df/tbl/data.frame)\n",
            " $ ...1        : num [1:832] 11431 1 136 71 11581 ...\n",
            " $ LogDurationA: num [1:832] -1.32 -1.36 -1.5 -1.28 -1.33 ...\n",
            " $ LogDurationW: num [1:832] -0.477 -0.36 -0.27 -0.377 -0.447 ...\n",
            " $ Lemma       : Factor w/ 17 levels \"bad\",\"bahn\",\"blas\",..: 9 3 11 6 6 4 8 2 10 15 ...\n",
            " $ Participant : Factor w/ 17 levels \"Art_02_S01\",\"Art_02_S03\",..: 1 1 1 1 1 1 1 1 1 1 ...\n",
            " $ Cond        : Factor w/ 2 levels \"fast\",\"slow\": 2 2 2 2 2 2 2 2 2 2 ...\n",
            " $ Exponent    : Factor w/ 3 levels \"en\",\"n\",\"t\": 3 2 1 1 3 1 1 3 2 2 ...\n",
            " $ Frequency   : num [1:832] -6.98 -5.74 -4.68 -6.26 -6.47 ...\n"
          ]
        }
      ]
    },
    {
      "cell_type": "markdown",
      "source": [
        "1.4 Кодирование факторов\n",
        "Догадайтесь, вспомните или прочитайте, по какому принципу кодируются факторы по умолчанию (подсказка: в переменной Cond значение fast имеет уровень 1, а slow имеет уровень 2)."
      ],
      "metadata": {
        "id": "rvQqj00Zr6yU"
      }
    },
    {
      "cell_type": "code",
      "source": [
        "# Думаю, что факторы кодируются в алфавитном порядке (F идёт до S), а нумерация в R начинается с единицы, а не с нуля."
      ],
      "metadata": {
        "id": "P_C8cQR3sAx0"
      },
      "execution_count": 5,
      "outputs": []
    },
    {
      "cell_type": "markdown",
      "source": [
        "1.5 Усредненные длительности сегмента и слова\n",
        "Сгруппировав данные по условию (Cond), выведите средние значения лог-трансформированных длин сегмента и слова примерно в таком виде (названия столбцов должны совпадать с данными в примере, округление числовых переменных может отличаться):"
      ],
      "metadata": {
        "id": "_0wUMqxysBI3"
      }
    },
    {
      "cell_type": "code",
      "source": [
        "summary <- dur_word_freq %>%\n",
        "  group_by(Cond) %>%\n",
        "  summarise(\n",
        "    meanLogDurA = round(mean(LogDurationA, na.rm = TRUE), 6),\n",
        "    meanLogDurW = round(mean(LogDurationW, na.rm = TRUE), 6)\n",
        "  )\n",
        "summary"
      ],
      "metadata": {
        "id": "xZhDjtBpsE_i",
        "colab": {
          "base_uri": "https://localhost:8080/",
          "height": 161
        },
        "outputId": "df32cc6b-8b25-4d6b-c450-d15d00ee2724"
      },
      "execution_count": 6,
      "outputs": [
        {
          "output_type": "display_data",
          "data": {
            "text/html": [
              "<table class=\"dataframe\">\n",
              "<caption>A tibble: 2 × 3</caption>\n",
              "<thead>\n",
              "\t<tr><th scope=col>Cond</th><th scope=col>meanLogDurA</th><th scope=col>meanLogDurW</th></tr>\n",
              "\t<tr><th scope=col>&lt;chr&gt;</th><th scope=col>&lt;dbl&gt;</th><th scope=col>&lt;dbl&gt;</th></tr>\n",
              "</thead>\n",
              "<tbody>\n",
              "\t<tr><td>fast</td><td>-1.738072</td><td>-0.583625</td></tr>\n",
              "\t<tr><td>slow</td><td>-1.628756</td><td>-0.448305</td></tr>\n",
              "</tbody>\n",
              "</table>\n"
            ],
            "text/markdown": "\nA tibble: 2 × 3\n\n| Cond &lt;chr&gt; | meanLogDurA &lt;dbl&gt; | meanLogDurW &lt;dbl&gt; |\n|---|---|---|\n| fast | -1.738072 | -0.583625 |\n| slow | -1.628756 | -0.448305 |\n\n",
            "text/latex": "A tibble: 2 × 3\n\\begin{tabular}{lll}\n Cond & meanLogDurA & meanLogDurW\\\\\n <chr> & <dbl> & <dbl>\\\\\n\\hline\n\t fast & -1.738072 & -0.583625\\\\\n\t slow & -1.628756 & -0.448305\\\\\n\\end{tabular}\n",
            "text/plain": [
              "  Cond meanLogDurA meanLogDurW\n",
              "1 fast -1.738072   -0.583625  \n",
              "2 slow -1.628756   -0.448305  "
            ]
          },
          "metadata": {}
        }
      ]
    },
    {
      "cell_type": "markdown",
      "source": [
        "1.6 Больше описательных статистик для длительности сегмента и слова\n",
        "Добавьте в таблицу 1.4 минимальные, максимальные и медианные значения для групп fast и slow (названия столбцов могут быть другими, чем в 1.4). Вам могут быть полезны функции min(), max() и median()."
      ],
      "metadata": {
        "id": "98s3Mt6C0eAx"
      }
    },
    {
      "cell_type": "code",
      "source": [
        "summary_2 <- dur_word_freq %>%\n",
        "  group_by(Cond) %>%\n",
        "  summarise(\n",
        "    meanLogDurA = round(mean(LogDurationA), 6),\n",
        "    meanLogDurW = round(mean(LogDurationW), 6),\n",
        "    minLogDurA = round(min(LogDurationA), 6),\n",
        "    minLogDurW = round(min(LogDurationW), 6),\n",
        "    maxLogDurA = round(max(LogDurationA), 6),\n",
        "    maxLogDurW = round(max(LogDurationW), 6),\n",
        "    medianLogDurA = round(median(LogDurationA), 6),\n",
        "    medianLogDurW = round(median(LogDurationW), 6)\n",
        "  )\n",
        "summary_2"
      ],
      "metadata": {
        "colab": {
          "base_uri": "https://localhost:8080/",
          "height": 161
        },
        "id": "Zlqvh4Nw0ffM",
        "outputId": "ed6edf94-a14d-450f-fb56-f4da5d795876"
      },
      "execution_count": 7,
      "outputs": [
        {
          "output_type": "display_data",
          "data": {
            "text/html": [
              "<table class=\"dataframe\">\n",
              "<caption>A tibble: 2 × 9</caption>\n",
              "<thead>\n",
              "\t<tr><th scope=col>Cond</th><th scope=col>meanLogDurA</th><th scope=col>meanLogDurW</th><th scope=col>minLogDurA</th><th scope=col>minLogDurW</th><th scope=col>maxLogDurA</th><th scope=col>maxLogDurW</th><th scope=col>medianLogDurA</th><th scope=col>medianLogDurW</th></tr>\n",
              "\t<tr><th scope=col>&lt;chr&gt;</th><th scope=col>&lt;dbl&gt;</th><th scope=col>&lt;dbl&gt;</th><th scope=col>&lt;dbl&gt;</th><th scope=col>&lt;dbl&gt;</th><th scope=col>&lt;dbl&gt;</th><th scope=col>&lt;dbl&gt;</th><th scope=col>&lt;dbl&gt;</th><th scope=col>&lt;dbl&gt;</th></tr>\n",
              "</thead>\n",
              "<tbody>\n",
              "\t<tr><td>fast</td><td>-1.738072</td><td>-0.583625</td><td>-2.571097</td><td>-1.171151</td><td>-1.231057</td><td>-0.021402</td><td>-1.720362</td><td>-0.597819</td></tr>\n",
              "\t<tr><td>slow</td><td>-1.628756</td><td>-0.448305</td><td>-3.506558</td><td>-1.237840</td><td>-1.096722</td><td> 0.578653</td><td>-1.638736</td><td>-0.446271</td></tr>\n",
              "</tbody>\n",
              "</table>\n"
            ],
            "text/markdown": "\nA tibble: 2 × 9\n\n| Cond &lt;chr&gt; | meanLogDurA &lt;dbl&gt; | meanLogDurW &lt;dbl&gt; | minLogDurA &lt;dbl&gt; | minLogDurW &lt;dbl&gt; | maxLogDurA &lt;dbl&gt; | maxLogDurW &lt;dbl&gt; | medianLogDurA &lt;dbl&gt; | medianLogDurW &lt;dbl&gt; |\n|---|---|---|---|---|---|---|---|---|\n| fast | -1.738072 | -0.583625 | -2.571097 | -1.171151 | -1.231057 | -0.021402 | -1.720362 | -0.597819 |\n| slow | -1.628756 | -0.448305 | -3.506558 | -1.237840 | -1.096722 |  0.578653 | -1.638736 | -0.446271 |\n\n",
            "text/latex": "A tibble: 2 × 9\n\\begin{tabular}{lllllllll}\n Cond & meanLogDurA & meanLogDurW & minLogDurA & minLogDurW & maxLogDurA & maxLogDurW & medianLogDurA & medianLogDurW\\\\\n <chr> & <dbl> & <dbl> & <dbl> & <dbl> & <dbl> & <dbl> & <dbl> & <dbl>\\\\\n\\hline\n\t fast & -1.738072 & -0.583625 & -2.571097 & -1.171151 & -1.231057 & -0.021402 & -1.720362 & -0.597819\\\\\n\t slow & -1.628756 & -0.448305 & -3.506558 & -1.237840 & -1.096722 &  0.578653 & -1.638736 & -0.446271\\\\\n\\end{tabular}\n",
            "text/plain": [
              "  Cond meanLogDurA meanLogDurW minLogDurA minLogDurW maxLogDurA maxLogDurW\n",
              "1 fast -1.738072   -0.583625   -2.571097  -1.171151  -1.231057  -0.021402 \n",
              "2 slow -1.628756   -0.448305   -3.506558  -1.237840  -1.096722   0.578653 \n",
              "  medianLogDurA medianLogDurW\n",
              "1 -1.720362     -0.597819    \n",
              "2 -1.638736     -0.446271    "
            ]
          },
          "metadata": {}
        }
      ]
    },
    {
      "cell_type": "markdown",
      "source": [
        "1.7 Длинный и короткий формат\n",
        "Данные в наборе, с которым мы работаем, следуют “длинному” формату - каждой точке наблюдения соответствует своя строка. Отфильтруйте данные по условию “slow” и по значению “t” переменной Exponent (окончание глагольной формы), затем представьте их в широком формате таким образом, чтобы каждая строка представляла длительность произнесения разных слов одним испытуемым (см. фрагмент ниже)."
      ],
      "metadata": {
        "id": "MXNUiqSj1GaN"
      }
    },
    {
      "cell_type": "code",
      "source": [
        "filtered <- dur_word_freq %>%\n",
        "  filter(Cond == \"slow\" & Exponent == \"t\")"
      ],
      "metadata": {
        "id": "VT0pJ3yD36aT"
      },
      "execution_count": 24,
      "outputs": []
    },
    {
      "cell_type": "code",
      "source": [
        "wide <- filtered %>%\n",
        "  pivot_wider(\n",
        "    names_from = Lemma,\n",
        "    values_from = LogDurationW,\n",
        "    id_cols = Participant\n",
        "  )\n",
        "wide"
      ],
      "metadata": {
        "id": "uuYHOUbF1NTo",
        "colab": {
          "base_uri": "https://localhost:8080/",
          "height": 631
        },
        "outputId": "0b6736c8-81b9-4ad4-ffc9-83a3a7ee385e"
      },
      "execution_count": 25,
      "outputs": [
        {
          "output_type": "display_data",
          "data": {
            "text/html": [
              "<table class=\"dataframe\">\n",
              "<caption>A tibble: 17 × 10</caption>\n",
              "<thead>\n",
              "\t<tr><th scope=col>Participant</th><th scope=col>schab</th><th scope=col>lahm</th><th scope=col>bahn</th><th scope=col>zahn</th><th scope=col>latsch</th><th scope=col>zahl</th><th scope=col>blas</th><th scope=col>mahn</th><th scope=col>schlaf</th></tr>\n",
              "\t<tr><th scope=col>&lt;chr&gt;</th><th scope=col>&lt;dbl&gt;</th><th scope=col>&lt;dbl&gt;</th><th scope=col>&lt;dbl&gt;</th><th scope=col>&lt;dbl&gt;</th><th scope=col>&lt;dbl&gt;</th><th scope=col>&lt;dbl&gt;</th><th scope=col>&lt;dbl&gt;</th><th scope=col>&lt;dbl&gt;</th><th scope=col>&lt;dbl&gt;</th></tr>\n",
              "</thead>\n",
              "<tbody>\n",
              "\t<tr><td>Art_02_S01</td><td>-0.4768593</td><td>-0.4471271</td><td>-0.4085488</td><td>-0.4620196</td><td>-0.2231311</td><td>-0.5108090</td><td>-0.4155003</td><td>-0.5798006</td><td>-0.4307675</td></tr>\n",
              "\t<tr><td>Art_02_S03</td><td>-0.4780197</td><td>-0.5621014</td><td>-0.5621014</td><td>-0.6161676</td><td>-0.6931272</td><td>-0.5276158</td><td>-0.5276158</td><td>-0.6161676</td><td>-1.2378399</td></tr>\n",
              "\t<tr><td>Art_02_S04</td><td>-0.5798006</td><td>-0.7550013</td><td>-0.7133295</td><td>-0.5798006</td><td>-0.6161676</td><td>-0.5978188</td><td>-0.5447099</td><td>-0.7133295</td><td>-0.5447099</td></tr>\n",
              "\t<tr><td>Art_02_S05</td><td>-0.6539072</td><td>-0.7126705</td><td>-0.4780197</td><td>-0.6348594</td><td>-0.2662896</td><td>-0.4307675</td><td>-0.6539072</td><td>-0.7339483</td><td>-0.7339483</td></tr>\n",
              "\t<tr><td>Art_02_S08</td><td>-0.4620196</td><td>-0.6733249</td><td>-0.6161676</td><td>-0.3010916</td><td>-0.4942799</td><td>-0.4155003</td><td>-0.3566607</td><td>-0.5978188</td><td>-0.2484485</td></tr>\n",
              "\t<tr><td>Art_02_S09</td><td>-0.5447099</td><td>-0.8915737</td><td>-0.4004626</td><td>-0.4462715</td><td>-0.6348594</td><td>-0.7765071</td><td>-0.4462715</td><td>-0.9415829</td><td>-0.3146970</td></tr>\n",
              "\t<tr><td>Art_02_S10</td><td>-0.5276158</td><td>-0.6931272</td><td>-0.5621014</td><td>-0.6931272</td><td>-0.6161676</td><td>-0.6161676</td><td>-0.5108090</td><td>-0.5276158</td><td>-0.5108090</td></tr>\n",
              "\t<tr><td>Art_02_S12</td><td>-0.7550013</td><td>-0.5108090</td><td>-0.5108090</td><td>-0.3566607</td><td>-0.5276158</td><td>-0.5798006</td><td>-0.6348594</td><td>-0.5798006</td><td>-0.2231311</td></tr>\n",
              "\t<tr><td>Art_02_S15</td><td>-0.4004626</td><td>-0.5447099</td><td>-0.5447099</td><td>-0.4462715</td><td>-0.5447099</td><td>-0.6733249</td><td>-0.4462715</td><td>-0.7133295</td><td>-0.4620196</td></tr>\n",
              "\t<tr><td>Art_02_S16</td><td>-0.5798006</td><td>-0.6161676</td><td>-0.5276158</td><td>-0.4942799</td><td>-0.2107087</td><td>-0.3566607</td><td>-0.5108090</td><td>-0.5108090</td><td>-0.3856478</td></tr>\n",
              "\t<tr><td>Art_02_S17</td><td>-0.5978188</td><td>-0.7382372</td><td>-0.6539072</td><td>-0.6539072</td><td>-0.3710492</td><td>-0.6161676</td><td>-0.6027634</td><td>-0.7339483</td><td>-0.5276158</td></tr>\n",
              "\t<tr><td>Art_02_S18</td><td>-0.3010916</td><td>-0.1625072</td><td>-0.3856478</td><td>-0.2107087</td><td>-0.4620196</td><td>-0.2613518</td><td>-0.1984387</td><td>-0.4307675</td><td>-0.2613518</td></tr>\n",
              "\t<tr><td>Art_02_S20</td><td>-0.5276158</td><td>-0.6539072</td><td>-0.4942799</td><td>-0.4004626</td><td>-0.1625072</td><td>-0.4307675</td><td>-0.7550013</td><td>-0.6733249</td><td>-0.4155003</td></tr>\n",
              "\t<tr><td>Art_02_S21</td><td>-0.7133295</td><td>-0.8915737</td><td>-0.5276158</td><td>-0.5276158</td><td>-0.6348594</td><td>-0.5621014</td><td>-0.4620196</td><td>-0.6733249</td><td>        NA</td></tr>\n",
              "\t<tr><td>Art_02_S22</td><td>-0.5108090</td><td>-0.4307675</td><td>-0.5276158</td><td>-0.4620196</td><td>-0.2357097</td><td>        NA</td><td>-0.4620196</td><td>-0.3566607</td><td>-0.4004626</td></tr>\n",
              "\t<tr><td>Art_02_S23</td><td>-0.5978188</td><td>-0.6539072</td><td>-0.6733249</td><td>-0.5108090</td><td>        NA</td><td>-0.5447099</td><td>-0.4155003</td><td>-0.7550013</td><td>        NA</td></tr>\n",
              "\t<tr><td>Art_02_S24</td><td>-0.1053494</td><td>-0.6348594</td><td>-0.4620196</td><td>-0.3856478</td><td>-0.2484485</td><td> 0.5187997</td><td> 0.4637403</td><td>-0.3010916</td><td>-0.2357097</td></tr>\n",
              "</tbody>\n",
              "</table>\n"
            ],
            "text/markdown": "\nA tibble: 17 × 10\n\n| Participant &lt;chr&gt; | schab &lt;dbl&gt; | lahm &lt;dbl&gt; | bahn &lt;dbl&gt; | zahn &lt;dbl&gt; | latsch &lt;dbl&gt; | zahl &lt;dbl&gt; | blas &lt;dbl&gt; | mahn &lt;dbl&gt; | schlaf &lt;dbl&gt; |\n|---|---|---|---|---|---|---|---|---|---|\n| Art_02_S01 | -0.4768593 | -0.4471271 | -0.4085488 | -0.4620196 | -0.2231311 | -0.5108090 | -0.4155003 | -0.5798006 | -0.4307675 |\n| Art_02_S03 | -0.4780197 | -0.5621014 | -0.5621014 | -0.6161676 | -0.6931272 | -0.5276158 | -0.5276158 | -0.6161676 | -1.2378399 |\n| Art_02_S04 | -0.5798006 | -0.7550013 | -0.7133295 | -0.5798006 | -0.6161676 | -0.5978188 | -0.5447099 | -0.7133295 | -0.5447099 |\n| Art_02_S05 | -0.6539072 | -0.7126705 | -0.4780197 | -0.6348594 | -0.2662896 | -0.4307675 | -0.6539072 | -0.7339483 | -0.7339483 |\n| Art_02_S08 | -0.4620196 | -0.6733249 | -0.6161676 | -0.3010916 | -0.4942799 | -0.4155003 | -0.3566607 | -0.5978188 | -0.2484485 |\n| Art_02_S09 | -0.5447099 | -0.8915737 | -0.4004626 | -0.4462715 | -0.6348594 | -0.7765071 | -0.4462715 | -0.9415829 | -0.3146970 |\n| Art_02_S10 | -0.5276158 | -0.6931272 | -0.5621014 | -0.6931272 | -0.6161676 | -0.6161676 | -0.5108090 | -0.5276158 | -0.5108090 |\n| Art_02_S12 | -0.7550013 | -0.5108090 | -0.5108090 | -0.3566607 | -0.5276158 | -0.5798006 | -0.6348594 | -0.5798006 | -0.2231311 |\n| Art_02_S15 | -0.4004626 | -0.5447099 | -0.5447099 | -0.4462715 | -0.5447099 | -0.6733249 | -0.4462715 | -0.7133295 | -0.4620196 |\n| Art_02_S16 | -0.5798006 | -0.6161676 | -0.5276158 | -0.4942799 | -0.2107087 | -0.3566607 | -0.5108090 | -0.5108090 | -0.3856478 |\n| Art_02_S17 | -0.5978188 | -0.7382372 | -0.6539072 | -0.6539072 | -0.3710492 | -0.6161676 | -0.6027634 | -0.7339483 | -0.5276158 |\n| Art_02_S18 | -0.3010916 | -0.1625072 | -0.3856478 | -0.2107087 | -0.4620196 | -0.2613518 | -0.1984387 | -0.4307675 | -0.2613518 |\n| Art_02_S20 | -0.5276158 | -0.6539072 | -0.4942799 | -0.4004626 | -0.1625072 | -0.4307675 | -0.7550013 | -0.6733249 | -0.4155003 |\n| Art_02_S21 | -0.7133295 | -0.8915737 | -0.5276158 | -0.5276158 | -0.6348594 | -0.5621014 | -0.4620196 | -0.6733249 |         NA |\n| Art_02_S22 | -0.5108090 | -0.4307675 | -0.5276158 | -0.4620196 | -0.2357097 |         NA | -0.4620196 | -0.3566607 | -0.4004626 |\n| Art_02_S23 | -0.5978188 | -0.6539072 | -0.6733249 | -0.5108090 |         NA | -0.5447099 | -0.4155003 | -0.7550013 |         NA |\n| Art_02_S24 | -0.1053494 | -0.6348594 | -0.4620196 | -0.3856478 | -0.2484485 |  0.5187997 |  0.4637403 | -0.3010916 | -0.2357097 |\n\n",
            "text/latex": "A tibble: 17 × 10\n\\begin{tabular}{llllllllll}\n Participant & schab & lahm & bahn & zahn & latsch & zahl & blas & mahn & schlaf\\\\\n <chr> & <dbl> & <dbl> & <dbl> & <dbl> & <dbl> & <dbl> & <dbl> & <dbl> & <dbl>\\\\\n\\hline\n\t Art\\_02\\_S01 & -0.4768593 & -0.4471271 & -0.4085488 & -0.4620196 & -0.2231311 & -0.5108090 & -0.4155003 & -0.5798006 & -0.4307675\\\\\n\t Art\\_02\\_S03 & -0.4780197 & -0.5621014 & -0.5621014 & -0.6161676 & -0.6931272 & -0.5276158 & -0.5276158 & -0.6161676 & -1.2378399\\\\\n\t Art\\_02\\_S04 & -0.5798006 & -0.7550013 & -0.7133295 & -0.5798006 & -0.6161676 & -0.5978188 & -0.5447099 & -0.7133295 & -0.5447099\\\\\n\t Art\\_02\\_S05 & -0.6539072 & -0.7126705 & -0.4780197 & -0.6348594 & -0.2662896 & -0.4307675 & -0.6539072 & -0.7339483 & -0.7339483\\\\\n\t Art\\_02\\_S08 & -0.4620196 & -0.6733249 & -0.6161676 & -0.3010916 & -0.4942799 & -0.4155003 & -0.3566607 & -0.5978188 & -0.2484485\\\\\n\t Art\\_02\\_S09 & -0.5447099 & -0.8915737 & -0.4004626 & -0.4462715 & -0.6348594 & -0.7765071 & -0.4462715 & -0.9415829 & -0.3146970\\\\\n\t Art\\_02\\_S10 & -0.5276158 & -0.6931272 & -0.5621014 & -0.6931272 & -0.6161676 & -0.6161676 & -0.5108090 & -0.5276158 & -0.5108090\\\\\n\t Art\\_02\\_S12 & -0.7550013 & -0.5108090 & -0.5108090 & -0.3566607 & -0.5276158 & -0.5798006 & -0.6348594 & -0.5798006 & -0.2231311\\\\\n\t Art\\_02\\_S15 & -0.4004626 & -0.5447099 & -0.5447099 & -0.4462715 & -0.5447099 & -0.6733249 & -0.4462715 & -0.7133295 & -0.4620196\\\\\n\t Art\\_02\\_S16 & -0.5798006 & -0.6161676 & -0.5276158 & -0.4942799 & -0.2107087 & -0.3566607 & -0.5108090 & -0.5108090 & -0.3856478\\\\\n\t Art\\_02\\_S17 & -0.5978188 & -0.7382372 & -0.6539072 & -0.6539072 & -0.3710492 & -0.6161676 & -0.6027634 & -0.7339483 & -0.5276158\\\\\n\t Art\\_02\\_S18 & -0.3010916 & -0.1625072 & -0.3856478 & -0.2107087 & -0.4620196 & -0.2613518 & -0.1984387 & -0.4307675 & -0.2613518\\\\\n\t Art\\_02\\_S20 & -0.5276158 & -0.6539072 & -0.4942799 & -0.4004626 & -0.1625072 & -0.4307675 & -0.7550013 & -0.6733249 & -0.4155003\\\\\n\t Art\\_02\\_S21 & -0.7133295 & -0.8915737 & -0.5276158 & -0.5276158 & -0.6348594 & -0.5621014 & -0.4620196 & -0.6733249 &         NA\\\\\n\t Art\\_02\\_S22 & -0.5108090 & -0.4307675 & -0.5276158 & -0.4620196 & -0.2357097 &         NA & -0.4620196 & -0.3566607 & -0.4004626\\\\\n\t Art\\_02\\_S23 & -0.5978188 & -0.6539072 & -0.6733249 & -0.5108090 &         NA & -0.5447099 & -0.4155003 & -0.7550013 &         NA\\\\\n\t Art\\_02\\_S24 & -0.1053494 & -0.6348594 & -0.4620196 & -0.3856478 & -0.2484485 &  0.5187997 &  0.4637403 & -0.3010916 & -0.2357097\\\\\n\\end{tabular}\n",
            "text/plain": [
              "   Participant schab      lahm       bahn       zahn       latsch    \n",
              "1  Art_02_S01  -0.4768593 -0.4471271 -0.4085488 -0.4620196 -0.2231311\n",
              "2  Art_02_S03  -0.4780197 -0.5621014 -0.5621014 -0.6161676 -0.6931272\n",
              "3  Art_02_S04  -0.5798006 -0.7550013 -0.7133295 -0.5798006 -0.6161676\n",
              "4  Art_02_S05  -0.6539072 -0.7126705 -0.4780197 -0.6348594 -0.2662896\n",
              "5  Art_02_S08  -0.4620196 -0.6733249 -0.6161676 -0.3010916 -0.4942799\n",
              "6  Art_02_S09  -0.5447099 -0.8915737 -0.4004626 -0.4462715 -0.6348594\n",
              "7  Art_02_S10  -0.5276158 -0.6931272 -0.5621014 -0.6931272 -0.6161676\n",
              "8  Art_02_S12  -0.7550013 -0.5108090 -0.5108090 -0.3566607 -0.5276158\n",
              "9  Art_02_S15  -0.4004626 -0.5447099 -0.5447099 -0.4462715 -0.5447099\n",
              "10 Art_02_S16  -0.5798006 -0.6161676 -0.5276158 -0.4942799 -0.2107087\n",
              "11 Art_02_S17  -0.5978188 -0.7382372 -0.6539072 -0.6539072 -0.3710492\n",
              "12 Art_02_S18  -0.3010916 -0.1625072 -0.3856478 -0.2107087 -0.4620196\n",
              "13 Art_02_S20  -0.5276158 -0.6539072 -0.4942799 -0.4004626 -0.1625072\n",
              "14 Art_02_S21  -0.7133295 -0.8915737 -0.5276158 -0.5276158 -0.6348594\n",
              "15 Art_02_S22  -0.5108090 -0.4307675 -0.5276158 -0.4620196 -0.2357097\n",
              "16 Art_02_S23  -0.5978188 -0.6539072 -0.6733249 -0.5108090         NA\n",
              "17 Art_02_S24  -0.1053494 -0.6348594 -0.4620196 -0.3856478 -0.2484485\n",
              "   zahl       blas       mahn       schlaf    \n",
              "1  -0.5108090 -0.4155003 -0.5798006 -0.4307675\n",
              "2  -0.5276158 -0.5276158 -0.6161676 -1.2378399\n",
              "3  -0.5978188 -0.5447099 -0.7133295 -0.5447099\n",
              "4  -0.4307675 -0.6539072 -0.7339483 -0.7339483\n",
              "5  -0.4155003 -0.3566607 -0.5978188 -0.2484485\n",
              "6  -0.7765071 -0.4462715 -0.9415829 -0.3146970\n",
              "7  -0.6161676 -0.5108090 -0.5276158 -0.5108090\n",
              "8  -0.5798006 -0.6348594 -0.5798006 -0.2231311\n",
              "9  -0.6733249 -0.4462715 -0.7133295 -0.4620196\n",
              "10 -0.3566607 -0.5108090 -0.5108090 -0.3856478\n",
              "11 -0.6161676 -0.6027634 -0.7339483 -0.5276158\n",
              "12 -0.2613518 -0.1984387 -0.4307675 -0.2613518\n",
              "13 -0.4307675 -0.7550013 -0.6733249 -0.4155003\n",
              "14 -0.5621014 -0.4620196 -0.6733249         NA\n",
              "15         NA -0.4620196 -0.3566607 -0.4004626\n",
              "16 -0.5447099 -0.4155003 -0.7550013         NA\n",
              "17  0.5187997  0.4637403 -0.3010916 -0.2357097"
            ]
          },
          "metadata": {}
        }
      ]
    },
    {
      "cell_type": "markdown",
      "source": [
        "1.8\n",
        "Найдите глагол, для которого в заданных экспериментальных условиях нет данных минимум по двум испытуемым."
      ],
      "metadata": {
        "id": "S-IOTOzo4iau"
      }
    },
    {
      "cell_type": "markdown",
      "source": [
        "schlaf"
      ],
      "metadata": {
        "id": "2_B77MAK49QI"
      }
    },
    {
      "cell_type": "markdown",
      "source": [
        "1.9\n",
        "Ваш код для этого задания:"
      ],
      "metadata": {
        "id": "9CZgCICb49bg"
      }
    },
    {
      "cell_type": "code",
      "source": [
        "wide %>%\n",
        "  summarise(across(everything(), ~ sum(is.na(.)))) # Видно, что только у глагола schlaf нашлось два NA."
      ],
      "metadata": {
        "colab": {
          "base_uri": "https://localhost:8080/",
          "height": 129
        },
        "id": "on2KBWz4H5ZU",
        "outputId": "f05092f4-86ac-47b2-a8fd-87dfa6fb6987"
      },
      "execution_count": 32,
      "outputs": [
        {
          "output_type": "display_data",
          "data": {
            "text/html": [
              "<table class=\"dataframe\">\n",
              "<caption>A tibble: 1 × 10</caption>\n",
              "<thead>\n",
              "\t<tr><th scope=col>Participant</th><th scope=col>schab</th><th scope=col>lahm</th><th scope=col>bahn</th><th scope=col>zahn</th><th scope=col>latsch</th><th scope=col>zahl</th><th scope=col>blas</th><th scope=col>mahn</th><th scope=col>schlaf</th></tr>\n",
              "\t<tr><th scope=col>&lt;int&gt;</th><th scope=col>&lt;int&gt;</th><th scope=col>&lt;int&gt;</th><th scope=col>&lt;int&gt;</th><th scope=col>&lt;int&gt;</th><th scope=col>&lt;int&gt;</th><th scope=col>&lt;int&gt;</th><th scope=col>&lt;int&gt;</th><th scope=col>&lt;int&gt;</th><th scope=col>&lt;int&gt;</th></tr>\n",
              "</thead>\n",
              "<tbody>\n",
              "\t<tr><td>0</td><td>0</td><td>0</td><td>0</td><td>0</td><td>1</td><td>1</td><td>0</td><td>0</td><td>2</td></tr>\n",
              "</tbody>\n",
              "</table>\n"
            ],
            "text/markdown": "\nA tibble: 1 × 10\n\n| Participant &lt;int&gt; | schab &lt;int&gt; | lahm &lt;int&gt; | bahn &lt;int&gt; | zahn &lt;int&gt; | latsch &lt;int&gt; | zahl &lt;int&gt; | blas &lt;int&gt; | mahn &lt;int&gt; | schlaf &lt;int&gt; |\n|---|---|---|---|---|---|---|---|---|---|\n| 0 | 0 | 0 | 0 | 0 | 1 | 1 | 0 | 0 | 2 |\n\n",
            "text/latex": "A tibble: 1 × 10\n\\begin{tabular}{llllllllll}\n Participant & schab & lahm & bahn & zahn & latsch & zahl & blas & mahn & schlaf\\\\\n <int> & <int> & <int> & <int> & <int> & <int> & <int> & <int> & <int> & <int>\\\\\n\\hline\n\t 0 & 0 & 0 & 0 & 0 & 1 & 1 & 0 & 0 & 2\\\\\n\\end{tabular}\n",
            "text/plain": [
              "  Participant schab lahm bahn zahn latsch zahl blas mahn schlaf\n",
              "1 0           0     0    0    0    1      1    0    0    2     "
            ]
          },
          "metadata": {}
        }
      ]
    },
    {
      "cell_type": "markdown",
      "source": [
        "1.10\n",
        "Сколько примерно времени вы потратили на выполнение первой части домашнего задания? (Округлите до получаса, считая чистое время без отвлечения на другие дела)."
      ],
      "metadata": {
        "id": "eU_M7Wr02IxH"
      }
    },
    {
      "cell_type": "code",
      "source": [
        "# 4-5 часов"
      ],
      "metadata": {
        "id": "Y5wWut0c-kCA"
      },
      "execution_count": 17,
      "outputs": []
    },
    {
      "cell_type": "markdown",
      "source": [
        "2. Лингвистические интересы студентов\n",
        "(предыдущая часть домашнего задания позволяет получить максимум 7 баллов. Сделав это задание, вы сможете повысить оценку).\n",
        "\n",
        "В файле по ссылке ниже приведены ответы студентов в опроснике по курсу.\n",
        "\n",
        "ID – id студента (данные анонимизированы)\n",
        "Topics – ответ студента на вопрос, какие области теоретической лингвистики его интересуют.\n",
        "Гугл-форма превращает несколько выбранных ответов в строку, где темы разделены запятой. В датасете данные представлены в таком виде: \"грамматика и семантика\", \"социолингвистика\"."
      ],
      "metadata": {
        "id": "gaVBDIvf3Hhy"
      }
    },
    {
      "cell_type": "code",
      "source": [
        "topics <- read_tsv(\"https://raw.githubusercontent.com/olesar/2025dav4compling/refs/heads/main/data/students2025_topics.tsv\")"
      ],
      "metadata": {
        "colab": {
          "base_uri": "https://localhost:8080/"
        },
        "id": "HzMFB5P33Ig0",
        "outputId": "ea0e66d2-8a02-490f-deb9-d390662294dc"
      },
      "execution_count": 18,
      "outputs": [
        {
          "output_type": "stream",
          "name": "stderr",
          "text": [
            "\u001b[1mRows: \u001b[22m\u001b[34m21\u001b[39m \u001b[1mColumns: \u001b[22m\u001b[34m2\u001b[39m\n",
            "\u001b[36m──\u001b[39m \u001b[1mColumn specification\u001b[22m \u001b[36m────────────────────────────────────────────────────────\u001b[39m\n",
            "\u001b[1mDelimiter:\u001b[22m \"\\t\"\n",
            "\u001b[31mchr\u001b[39m (1): Topics\n",
            "\u001b[32mdbl\u001b[39m (1): ID\n",
            "\n",
            "\u001b[36mℹ\u001b[39m Use `spec()` to retrieve the full column specification for this data.\n",
            "\u001b[36mℹ\u001b[39m Specify the column types or set `show_col_types = FALSE` to quiet this message.\n"
          ]
        }
      ]
    },
    {
      "cell_type": "markdown",
      "source": [
        "2.1\n",
        "Используя функцию separate_rows(), представьте данные примерно в таком виде (порядок столбцов может быть любым):"
      ],
      "metadata": {
        "id": "O5lVm7SI3OW1"
      }
    },
    {
      "cell_type": "code",
      "source": [
        "topics_2 <- topics %>%\n",
        "  separate_rows(Topics, sep = \", \") %>%\n",
        "  mutate(value = TRUE) %>%\n",
        "  pivot_wider(names_from = Topics, values_from = value, values_fill = FALSE)\n",
        "topics_2"
      ],
      "metadata": {
        "colab": {
          "base_uri": "https://localhost:8080/",
          "height": 774
        },
        "id": "2myGLpS23MVJ",
        "outputId": "c288b62f-b340-46c5-883d-1fb67cd1ac02"
      },
      "execution_count": 19,
      "outputs": [
        {
          "output_type": "display_data",
          "data": {
            "text/html": [
              "<table class=\"dataframe\">\n",
              "<caption>A tibble: 21 × 12</caption>\n",
              "<thead>\n",
              "\t<tr><th scope=col>ID</th><th scope=col>фонетика и интонация</th><th scope=col>история языка</th><th scope=col>компаративистика</th><th scope=col>филогенетика</th><th scope=col>экспериментальная лингвистика</th><th scope=col>анализ данных в гуманитарных науках</th><th scope=col>грамматика и семантика</th><th scope=col>социолингвистика</th><th scope=col>NA</th><th scope=col>корпусная лингвистика</th><th scope=col>лингвогеография</th></tr>\n",
              "\t<tr><th scope=col>&lt;dbl&gt;</th><th scope=col>&lt;lgl&gt;</th><th scope=col>&lt;lgl&gt;</th><th scope=col>&lt;lgl&gt;</th><th scope=col>&lt;lgl&gt;</th><th scope=col>&lt;lgl&gt;</th><th scope=col>&lt;lgl&gt;</th><th scope=col>&lt;lgl&gt;</th><th scope=col>&lt;lgl&gt;</th><th scope=col>&lt;lgl&gt;</th><th scope=col>&lt;lgl&gt;</th><th scope=col>&lt;lgl&gt;</th></tr>\n",
              "</thead>\n",
              "<tbody>\n",
              "\t<tr><td> 1</td><td> TRUE</td><td> TRUE</td><td> TRUE</td><td> TRUE</td><td> TRUE</td><td> TRUE</td><td>FALSE</td><td>FALSE</td><td>FALSE</td><td>FALSE</td><td>FALSE</td></tr>\n",
              "\t<tr><td> 2</td><td>FALSE</td><td>FALSE</td><td>FALSE</td><td>FALSE</td><td>FALSE</td><td>FALSE</td><td> TRUE</td><td> TRUE</td><td>FALSE</td><td>FALSE</td><td>FALSE</td></tr>\n",
              "\t<tr><td> 3</td><td>FALSE</td><td> TRUE</td><td> TRUE</td><td> TRUE</td><td> TRUE</td><td>FALSE</td><td> TRUE</td><td> TRUE</td><td>FALSE</td><td>FALSE</td><td>FALSE</td></tr>\n",
              "\t<tr><td> 4</td><td> TRUE</td><td>FALSE</td><td>FALSE</td><td>FALSE</td><td> TRUE</td><td> TRUE</td><td>FALSE</td><td>FALSE</td><td>FALSE</td><td>FALSE</td><td>FALSE</td></tr>\n",
              "\t<tr><td> 5</td><td> TRUE</td><td>FALSE</td><td>FALSE</td><td>FALSE</td><td>FALSE</td><td> TRUE</td><td> TRUE</td><td> TRUE</td><td>FALSE</td><td>FALSE</td><td>FALSE</td></tr>\n",
              "\t<tr><td> 6</td><td>FALSE</td><td>FALSE</td><td>FALSE</td><td>FALSE</td><td> TRUE</td><td>FALSE</td><td> TRUE</td><td> TRUE</td><td>FALSE</td><td>FALSE</td><td>FALSE</td></tr>\n",
              "\t<tr><td> 7</td><td> TRUE</td><td>FALSE</td><td>FALSE</td><td>FALSE</td><td> TRUE</td><td>FALSE</td><td>FALSE</td><td>FALSE</td><td>FALSE</td><td>FALSE</td><td>FALSE</td></tr>\n",
              "\t<tr><td> 8</td><td>FALSE</td><td>FALSE</td><td>FALSE</td><td>FALSE</td><td>FALSE</td><td>FALSE</td><td>FALSE</td><td>FALSE</td><td> TRUE</td><td>FALSE</td><td>FALSE</td></tr>\n",
              "\t<tr><td> 9</td><td>FALSE</td><td>FALSE</td><td>FALSE</td><td>FALSE</td><td>FALSE</td><td> TRUE</td><td>FALSE</td><td> TRUE</td><td>FALSE</td><td>FALSE</td><td>FALSE</td></tr>\n",
              "\t<tr><td>10</td><td>FALSE</td><td>FALSE</td><td>FALSE</td><td>FALSE</td><td>FALSE</td><td> TRUE</td><td>FALSE</td><td>FALSE</td><td>FALSE</td><td>FALSE</td><td>FALSE</td></tr>\n",
              "\t<tr><td>11</td><td>FALSE</td><td>FALSE</td><td>FALSE</td><td>FALSE</td><td> TRUE</td><td>FALSE</td><td> TRUE</td><td>FALSE</td><td>FALSE</td><td>FALSE</td><td>FALSE</td></tr>\n",
              "\t<tr><td>12</td><td> TRUE</td><td>FALSE</td><td>FALSE</td><td>FALSE</td><td> TRUE</td><td>FALSE</td><td>FALSE</td><td> TRUE</td><td>FALSE</td><td>FALSE</td><td>FALSE</td></tr>\n",
              "\t<tr><td>13</td><td>FALSE</td><td>FALSE</td><td>FALSE</td><td>FALSE</td><td> TRUE</td><td> TRUE</td><td>FALSE</td><td>FALSE</td><td>FALSE</td><td>FALSE</td><td>FALSE</td></tr>\n",
              "\t<tr><td>14</td><td> TRUE</td><td>FALSE</td><td>FALSE</td><td>FALSE</td><td> TRUE</td><td>FALSE</td><td>FALSE</td><td> TRUE</td><td>FALSE</td><td>FALSE</td><td>FALSE</td></tr>\n",
              "\t<tr><td>15</td><td> TRUE</td><td>FALSE</td><td>FALSE</td><td>FALSE</td><td> TRUE</td><td>FALSE</td><td> TRUE</td><td>FALSE</td><td>FALSE</td><td>FALSE</td><td>FALSE</td></tr>\n",
              "\t<tr><td>16</td><td>FALSE</td><td> TRUE</td><td> TRUE</td><td> TRUE</td><td>FALSE</td><td>FALSE</td><td> TRUE</td><td>FALSE</td><td>FALSE</td><td> TRUE</td><td>FALSE</td></tr>\n",
              "\t<tr><td>17</td><td>FALSE</td><td>FALSE</td><td>FALSE</td><td>FALSE</td><td> TRUE</td><td>FALSE</td><td> TRUE</td><td>FALSE</td><td>FALSE</td><td>FALSE</td><td>FALSE</td></tr>\n",
              "\t<tr><td>18</td><td>FALSE</td><td>FALSE</td><td>FALSE</td><td>FALSE</td><td> TRUE</td><td> TRUE</td><td>FALSE</td><td> TRUE</td><td>FALSE</td><td>FALSE</td><td>FALSE</td></tr>\n",
              "\t<tr><td>19</td><td>FALSE</td><td> TRUE</td><td> TRUE</td><td> TRUE</td><td> TRUE</td><td>FALSE</td><td>FALSE</td><td> TRUE</td><td>FALSE</td><td>FALSE</td><td>FALSE</td></tr>\n",
              "\t<tr><td>20</td><td>FALSE</td><td>FALSE</td><td>FALSE</td><td>FALSE</td><td> TRUE</td><td>FALSE</td><td>FALSE</td><td> TRUE</td><td>FALSE</td><td>FALSE</td><td> TRUE</td></tr>\n",
              "\t<tr><td>21</td><td>FALSE</td><td>FALSE</td><td>FALSE</td><td>FALSE</td><td> TRUE</td><td> TRUE</td><td> TRUE</td><td>FALSE</td><td>FALSE</td><td>FALSE</td><td>FALSE</td></tr>\n",
              "</tbody>\n",
              "</table>\n"
            ],
            "text/markdown": "\nA tibble: 21 × 12\n\n| ID &lt;dbl&gt; | фонетика и интонация &lt;lgl&gt; | история языка &lt;lgl&gt; | компаративистика &lt;lgl&gt; | филогенетика &lt;lgl&gt; | экспериментальная лингвистика &lt;lgl&gt; | анализ данных в гуманитарных науках &lt;lgl&gt; | грамматика и семантика &lt;lgl&gt; | социолингвистика &lt;lgl&gt; | NA &lt;lgl&gt; | корпусная лингвистика &lt;lgl&gt; | лингвогеография &lt;lgl&gt; |\n|---|---|---|---|---|---|---|---|---|---|---|---|\n|  1 |  TRUE |  TRUE |  TRUE |  TRUE |  TRUE |  TRUE | FALSE | FALSE | FALSE | FALSE | FALSE |\n|  2 | FALSE | FALSE | FALSE | FALSE | FALSE | FALSE |  TRUE |  TRUE | FALSE | FALSE | FALSE |\n|  3 | FALSE |  TRUE |  TRUE |  TRUE |  TRUE | FALSE |  TRUE |  TRUE | FALSE | FALSE | FALSE |\n|  4 |  TRUE | FALSE | FALSE | FALSE |  TRUE |  TRUE | FALSE | FALSE | FALSE | FALSE | FALSE |\n|  5 |  TRUE | FALSE | FALSE | FALSE | FALSE |  TRUE |  TRUE |  TRUE | FALSE | FALSE | FALSE |\n|  6 | FALSE | FALSE | FALSE | FALSE |  TRUE | FALSE |  TRUE |  TRUE | FALSE | FALSE | FALSE |\n|  7 |  TRUE | FALSE | FALSE | FALSE |  TRUE | FALSE | FALSE | FALSE | FALSE | FALSE | FALSE |\n|  8 | FALSE | FALSE | FALSE | FALSE | FALSE | FALSE | FALSE | FALSE |  TRUE | FALSE | FALSE |\n|  9 | FALSE | FALSE | FALSE | FALSE | FALSE |  TRUE | FALSE |  TRUE | FALSE | FALSE | FALSE |\n| 10 | FALSE | FALSE | FALSE | FALSE | FALSE |  TRUE | FALSE | FALSE | FALSE | FALSE | FALSE |\n| 11 | FALSE | FALSE | FALSE | FALSE |  TRUE | FALSE |  TRUE | FALSE | FALSE | FALSE | FALSE |\n| 12 |  TRUE | FALSE | FALSE | FALSE |  TRUE | FALSE | FALSE |  TRUE | FALSE | FALSE | FALSE |\n| 13 | FALSE | FALSE | FALSE | FALSE |  TRUE |  TRUE | FALSE | FALSE | FALSE | FALSE | FALSE |\n| 14 |  TRUE | FALSE | FALSE | FALSE |  TRUE | FALSE | FALSE |  TRUE | FALSE | FALSE | FALSE |\n| 15 |  TRUE | FALSE | FALSE | FALSE |  TRUE | FALSE |  TRUE | FALSE | FALSE | FALSE | FALSE |\n| 16 | FALSE |  TRUE |  TRUE |  TRUE | FALSE | FALSE |  TRUE | FALSE | FALSE |  TRUE | FALSE |\n| 17 | FALSE | FALSE | FALSE | FALSE |  TRUE | FALSE |  TRUE | FALSE | FALSE | FALSE | FALSE |\n| 18 | FALSE | FALSE | FALSE | FALSE |  TRUE |  TRUE | FALSE |  TRUE | FALSE | FALSE | FALSE |\n| 19 | FALSE |  TRUE |  TRUE |  TRUE |  TRUE | FALSE | FALSE |  TRUE | FALSE | FALSE | FALSE |\n| 20 | FALSE | FALSE | FALSE | FALSE |  TRUE | FALSE | FALSE |  TRUE | FALSE | FALSE |  TRUE |\n| 21 | FALSE | FALSE | FALSE | FALSE |  TRUE |  TRUE |  TRUE | FALSE | FALSE | FALSE | FALSE |\n\n",
            "text/latex": "A tibble: 21 × 12\n\\begin{tabular}{llllllllllll}\n ID & фонетика и интонация & история языка & компаративистика & филогенетика & экспериментальная лингвистика & анализ данных в гуманитарных науках & грамматика и семантика & социолингвистика & NA & корпусная лингвистика & лингвогеография\\\\\n <dbl> & <lgl> & <lgl> & <lgl> & <lgl> & <lgl> & <lgl> & <lgl> & <lgl> & <lgl> & <lgl> & <lgl>\\\\\n\\hline\n\t  1 &  TRUE &  TRUE &  TRUE &  TRUE &  TRUE &  TRUE & FALSE & FALSE & FALSE & FALSE & FALSE\\\\\n\t  2 & FALSE & FALSE & FALSE & FALSE & FALSE & FALSE &  TRUE &  TRUE & FALSE & FALSE & FALSE\\\\\n\t  3 & FALSE &  TRUE &  TRUE &  TRUE &  TRUE & FALSE &  TRUE &  TRUE & FALSE & FALSE & FALSE\\\\\n\t  4 &  TRUE & FALSE & FALSE & FALSE &  TRUE &  TRUE & FALSE & FALSE & FALSE & FALSE & FALSE\\\\\n\t  5 &  TRUE & FALSE & FALSE & FALSE & FALSE &  TRUE &  TRUE &  TRUE & FALSE & FALSE & FALSE\\\\\n\t  6 & FALSE & FALSE & FALSE & FALSE &  TRUE & FALSE &  TRUE &  TRUE & FALSE & FALSE & FALSE\\\\\n\t  7 &  TRUE & FALSE & FALSE & FALSE &  TRUE & FALSE & FALSE & FALSE & FALSE & FALSE & FALSE\\\\\n\t  8 & FALSE & FALSE & FALSE & FALSE & FALSE & FALSE & FALSE & FALSE &  TRUE & FALSE & FALSE\\\\\n\t  9 & FALSE & FALSE & FALSE & FALSE & FALSE &  TRUE & FALSE &  TRUE & FALSE & FALSE & FALSE\\\\\n\t 10 & FALSE & FALSE & FALSE & FALSE & FALSE &  TRUE & FALSE & FALSE & FALSE & FALSE & FALSE\\\\\n\t 11 & FALSE & FALSE & FALSE & FALSE &  TRUE & FALSE &  TRUE & FALSE & FALSE & FALSE & FALSE\\\\\n\t 12 &  TRUE & FALSE & FALSE & FALSE &  TRUE & FALSE & FALSE &  TRUE & FALSE & FALSE & FALSE\\\\\n\t 13 & FALSE & FALSE & FALSE & FALSE &  TRUE &  TRUE & FALSE & FALSE & FALSE & FALSE & FALSE\\\\\n\t 14 &  TRUE & FALSE & FALSE & FALSE &  TRUE & FALSE & FALSE &  TRUE & FALSE & FALSE & FALSE\\\\\n\t 15 &  TRUE & FALSE & FALSE & FALSE &  TRUE & FALSE &  TRUE & FALSE & FALSE & FALSE & FALSE\\\\\n\t 16 & FALSE &  TRUE &  TRUE &  TRUE & FALSE & FALSE &  TRUE & FALSE & FALSE &  TRUE & FALSE\\\\\n\t 17 & FALSE & FALSE & FALSE & FALSE &  TRUE & FALSE &  TRUE & FALSE & FALSE & FALSE & FALSE\\\\\n\t 18 & FALSE & FALSE & FALSE & FALSE &  TRUE &  TRUE & FALSE &  TRUE & FALSE & FALSE & FALSE\\\\\n\t 19 & FALSE &  TRUE &  TRUE &  TRUE &  TRUE & FALSE & FALSE &  TRUE & FALSE & FALSE & FALSE\\\\\n\t 20 & FALSE & FALSE & FALSE & FALSE &  TRUE & FALSE & FALSE &  TRUE & FALSE & FALSE &  TRUE\\\\\n\t 21 & FALSE & FALSE & FALSE & FALSE &  TRUE &  TRUE &  TRUE & FALSE & FALSE & FALSE & FALSE\\\\\n\\end{tabular}\n",
            "text/plain": [
              "   ID фонетика и интонация история языка компаративистика филогенетика\n",
              "1   1  TRUE                 TRUE          TRUE             TRUE       \n",
              "2   2 FALSE                FALSE         FALSE            FALSE       \n",
              "3   3 FALSE                 TRUE          TRUE             TRUE       \n",
              "4   4  TRUE                FALSE         FALSE            FALSE       \n",
              "5   5  TRUE                FALSE         FALSE            FALSE       \n",
              "6   6 FALSE                FALSE         FALSE            FALSE       \n",
              "7   7  TRUE                FALSE         FALSE            FALSE       \n",
              "8   8 FALSE                FALSE         FALSE            FALSE       \n",
              "9   9 FALSE                FALSE         FALSE            FALSE       \n",
              "10 10 FALSE                FALSE         FALSE            FALSE       \n",
              "11 11 FALSE                FALSE         FALSE            FALSE       \n",
              "12 12  TRUE                FALSE         FALSE            FALSE       \n",
              "13 13 FALSE                FALSE         FALSE            FALSE       \n",
              "14 14  TRUE                FALSE         FALSE            FALSE       \n",
              "15 15  TRUE                FALSE         FALSE            FALSE       \n",
              "16 16 FALSE                 TRUE          TRUE             TRUE       \n",
              "17 17 FALSE                FALSE         FALSE            FALSE       \n",
              "18 18 FALSE                FALSE         FALSE            FALSE       \n",
              "19 19 FALSE                 TRUE          TRUE             TRUE       \n",
              "20 20 FALSE                FALSE         FALSE            FALSE       \n",
              "21 21 FALSE                FALSE         FALSE            FALSE       \n",
              "   экспериментальная лингвистика анализ данных в гуманитарных науках\n",
              "1   TRUE                          TRUE                              \n",
              "2  FALSE                         FALSE                              \n",
              "3   TRUE                         FALSE                              \n",
              "4   TRUE                          TRUE                              \n",
              "5  FALSE                          TRUE                              \n",
              "6   TRUE                         FALSE                              \n",
              "7   TRUE                         FALSE                              \n",
              "8  FALSE                         FALSE                              \n",
              "9  FALSE                          TRUE                              \n",
              "10 FALSE                          TRUE                              \n",
              "11  TRUE                         FALSE                              \n",
              "12  TRUE                         FALSE                              \n",
              "13  TRUE                          TRUE                              \n",
              "14  TRUE                         FALSE                              \n",
              "15  TRUE                         FALSE                              \n",
              "16 FALSE                         FALSE                              \n",
              "17  TRUE                         FALSE                              \n",
              "18  TRUE                          TRUE                              \n",
              "19  TRUE                         FALSE                              \n",
              "20  TRUE                         FALSE                              \n",
              "21  TRUE                          TRUE                              \n",
              "   грамматика и семантика социолингвистика NA    корпусная лингвистика\n",
              "1  FALSE                  FALSE            FALSE FALSE                \n",
              "2   TRUE                   TRUE            FALSE FALSE                \n",
              "3   TRUE                   TRUE            FALSE FALSE                \n",
              "4  FALSE                  FALSE            FALSE FALSE                \n",
              "5   TRUE                   TRUE            FALSE FALSE                \n",
              "6   TRUE                   TRUE            FALSE FALSE                \n",
              "7  FALSE                  FALSE            FALSE FALSE                \n",
              "8  FALSE                  FALSE             TRUE FALSE                \n",
              "9  FALSE                   TRUE            FALSE FALSE                \n",
              "10 FALSE                  FALSE            FALSE FALSE                \n",
              "11  TRUE                  FALSE            FALSE FALSE                \n",
              "12 FALSE                   TRUE            FALSE FALSE                \n",
              "13 FALSE                  FALSE            FALSE FALSE                \n",
              "14 FALSE                   TRUE            FALSE FALSE                \n",
              "15  TRUE                  FALSE            FALSE FALSE                \n",
              "16  TRUE                  FALSE            FALSE  TRUE                \n",
              "17  TRUE                  FALSE            FALSE FALSE                \n",
              "18 FALSE                   TRUE            FALSE FALSE                \n",
              "19 FALSE                   TRUE            FALSE FALSE                \n",
              "20 FALSE                   TRUE            FALSE FALSE                \n",
              "21  TRUE                  FALSE            FALSE FALSE                \n",
              "   лингвогеография\n",
              "1  FALSE          \n",
              "2  FALSE          \n",
              "3  FALSE          \n",
              "4  FALSE          \n",
              "5  FALSE          \n",
              "6  FALSE          \n",
              "7  FALSE          \n",
              "8  FALSE          \n",
              "9  FALSE          \n",
              "10 FALSE          \n",
              "11 FALSE          \n",
              "12 FALSE          \n",
              "13 FALSE          \n",
              "14 FALSE          \n",
              "15 FALSE          \n",
              "16 FALSE          \n",
              "17 FALSE          \n",
              "18 FALSE          \n",
              "19 FALSE          \n",
              "20  TRUE          \n",
              "21 FALSE          "
            ]
          },
          "metadata": {}
        }
      ]
    },
    {
      "cell_type": "markdown",
      "source": [
        "2.2\n",
        "Добавьте в код еще одну строку, чтобы с помощью функций summarise, across и where получить тиббл, в котором подсчитано количество значений TRUE по каждому столбцу. Пример:"
      ],
      "metadata": {
        "id": "KFiei7FF42P-"
      }
    },
    {
      "cell_type": "code",
      "source": [
        "topics_3 <- topics_2 %>%\n",
        "  summarise(across(where(is.logical), sum))\n",
        "topics_3"
      ],
      "metadata": {
        "colab": {
          "base_uri": "https://localhost:8080/",
          "height": 129
        },
        "id": "mEZc05Wm3ly6",
        "outputId": "00f0363f-f566-4bd9-d8e1-4c1dac5af1ce"
      },
      "execution_count": 20,
      "outputs": [
        {
          "output_type": "display_data",
          "data": {
            "text/html": [
              "<table class=\"dataframe\">\n",
              "<caption>A tibble: 1 × 11</caption>\n",
              "<thead>\n",
              "\t<tr><th scope=col>фонетика и интонация</th><th scope=col>история языка</th><th scope=col>компаративистика</th><th scope=col>филогенетика</th><th scope=col>экспериментальная лингвистика</th><th scope=col>анализ данных в гуманитарных науках</th><th scope=col>грамматика и семантика</th><th scope=col>социолингвистика</th><th scope=col>NA</th><th scope=col>корпусная лингвистика</th><th scope=col>лингвогеография</th></tr>\n",
              "\t<tr><th scope=col>&lt;int&gt;</th><th scope=col>&lt;int&gt;</th><th scope=col>&lt;int&gt;</th><th scope=col>&lt;int&gt;</th><th scope=col>&lt;int&gt;</th><th scope=col>&lt;int&gt;</th><th scope=col>&lt;int&gt;</th><th scope=col>&lt;int&gt;</th><th scope=col>&lt;int&gt;</th><th scope=col>&lt;int&gt;</th><th scope=col>&lt;int&gt;</th></tr>\n",
              "</thead>\n",
              "<tbody>\n",
              "\t<tr><td>7</td><td>4</td><td>4</td><td>4</td><td>15</td><td>8</td><td>9</td><td>10</td><td>1</td><td>1</td><td>1</td></tr>\n",
              "</tbody>\n",
              "</table>\n"
            ],
            "text/markdown": "\nA tibble: 1 × 11\n\n| фонетика и интонация &lt;int&gt; | история языка &lt;int&gt; | компаративистика &lt;int&gt; | филогенетика &lt;int&gt; | экспериментальная лингвистика &lt;int&gt; | анализ данных в гуманитарных науках &lt;int&gt; | грамматика и семантика &lt;int&gt; | социолингвистика &lt;int&gt; | NA &lt;int&gt; | корпусная лингвистика &lt;int&gt; | лингвогеография &lt;int&gt; |\n|---|---|---|---|---|---|---|---|---|---|---|\n| 7 | 4 | 4 | 4 | 15 | 8 | 9 | 10 | 1 | 1 | 1 |\n\n",
            "text/latex": "A tibble: 1 × 11\n\\begin{tabular}{lllllllllll}\n фонетика и интонация & история языка & компаративистика & филогенетика & экспериментальная лингвистика & анализ данных в гуманитарных науках & грамматика и семантика & социолингвистика & NA & корпусная лингвистика & лингвогеография\\\\\n <int> & <int> & <int> & <int> & <int> & <int> & <int> & <int> & <int> & <int> & <int>\\\\\n\\hline\n\t 7 & 4 & 4 & 4 & 15 & 8 & 9 & 10 & 1 & 1 & 1\\\\\n\\end{tabular}\n",
            "text/plain": [
              "  фонетика и интонация история языка компаративистика филогенетика\n",
              "1 7                    4             4                4           \n",
              "  экспериментальная лингвистика анализ данных в гуманитарных науках\n",
              "1 15                            8                                  \n",
              "  грамматика и семантика социолингвистика NA корпусная лингвистика\n",
              "1 9                      10               1  1                    \n",
              "  лингвогеография\n",
              "1 1              "
            ]
          },
          "metadata": {}
        }
      ]
    },
    {
      "cell_type": "markdown",
      "source": [
        "2.3 Визуализация\n",
        "С помощью ggplot2 визуализируйте полученные частоты упоминаний областей лингвистики в виде столбчатой диаграммы: Во-первых, решим проблему того, что ggplot не сможет легко извлечь данные, записанные в отдельных столбцах. Код ниже показывает, как с помощью pivot_longer() можно транспонировать их в такой формат, чтобы ggplot мог пользоваться векторами, заданными в двух столбцах - названиями областей в одном topics и счетчиком в другом (counts). (Здесь полученные ранее данные сохранены в переменную topic_counts). Во-вторых, отфильтруйте строку, в которой встретилась тема “NA” - дело в том, что один из студентов не захотел отвечать на этот вопрос.\n",
        "\n",
        "Теперь используйте геом geom_col c заливкой столбцов цветом #77b6ff и классической темой, чтобы получить столбчатую диаграмму. Обратите внимание, что нужно горизонтально расположить столбцы для лучшей читаемости длинных подписей."
      ],
      "metadata": {
        "id": "UupeSO_3_r7Q"
      }
    },
    {
      "cell_type": "code",
      "source": [
        "topics_long <- topics_3 %>%\n",
        "  pivot_longer(cols = everything(), names_to = \"topics\", values_to = \"counts\")%>%\n",
        "  filter(!is.na(topics) & !is.na(counts))\n",
        "\n",
        "ggplot(topics_long, aes(x = reorder(topics, counts), y = counts)) +\n",
        "  geom_col(fill = \"#77b6ff\") +\n",
        "  coord_flip() +\n",
        "  labs(x = \"темы\",\n",
        "       y = \"количество упоминаний\") +\n",
        "  theme_classic()"
      ],
      "metadata": {
        "colab": {
          "base_uri": "https://localhost:8080/",
          "height": 437
        },
        "id": "4gRSnXmrAUI0",
        "outputId": "53e498ba-000c-480a-e11c-318c287c4490"
      },
      "execution_count": 21,
      "outputs": [
        {
          "output_type": "display_data",
          "data": {
            "text/plain": [
              "plot without title"
            ],
            "image/png": "[encoded data removed]"
          },
          "metadata": {
            "image/png": {
              "width": 420,
              "height": 420
            }
          }
        }
      ]
    },
    {
      "cell_type": "markdown",
      "source": [
        "3.1 Адрес репозитория на github\n",
        "Вы можете выкладывать задания, которые делаете самостоятельно на семинаре, в репозиторий на гитхабе. Если вы хотите получать фидбек, укажите адрес этого репозитория ниже:"
      ],
      "metadata": {
        "id": "RyGldGBHDop9"
      }
    },
    {
      "cell_type": "code",
      "source": [
        "# https://github.com/luchia0602/R"
      ],
      "metadata": {
        "id": "YIUA0aaeDWOF"
      },
      "execution_count": 22,
      "outputs": []
    },
    {
      "cell_type": "markdown",
      "source": [
        "3.2\n",
        "Это необязательно, но вы можете написать здесь свои комментарии по домашнему заданию, если хотите."
      ],
      "metadata": {
        "id": "PM3DFMncDtAJ"
      }
    },
    {
      "cell_type": "code",
      "source": [
        "# В файле с домашним заданием в пункте 2.1 ошибка: в столбце \"Компаративистика\" у участника 2 должен быть FALSE, а не TRUE."
      ],
      "metadata": {
        "id": "J5mJD9gnIGF4"
      },
      "execution_count": null,
      "outputs": []
    }
  ]
}